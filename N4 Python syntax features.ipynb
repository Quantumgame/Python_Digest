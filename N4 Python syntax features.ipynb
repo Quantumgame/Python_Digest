{
 "cells": [
  {
   "cell_type": "markdown",
   "metadata": {},
   "source": [
    "# N4 Особенности синтаксиса в python\n",
    "\n",
    "Автор: Шабанов Павел Александрович\n",
    "\n",
    "Email: pa.shabanov@gmail.com\n",
    "\n",
    "URL: [Заметки по программированию в науках о Земле](http://progeoru.blogspot.ru/)\n",
    "\n",
    "Дата последнего обновления: 10.02.2016\n",
    "\n",
    "### Цель: \n",
    "\n",
    "+ ознакомить с особенностями написания python-кода;\n",
    "\n",
    "## Особенности синтаксиса python\n",
    "\n",
    "Python относится к динамическим языкам программирования, что позволяет ему определять типы данных и осуществлять синтаксический анализ, а также трансляцию «на лету», на этапе выполнения программы.\n",
    "\n",
    "Синтаксис языка python прост и понятен. Он не злоупотребляет использованием символов и не требует обязательного описания типов данных для введения новых переменных и объектов. \n",
    "\n",
    "Python чувствителен к регистру. Так объекты Big и big являются разными объектами, а команды max() и Max() - разными командами.\n",
    "\n",
    "### Отступы (правило 4 пробелов)\n",
    "\n",
    "В python внутренняя иерархия алгоритма (ветвление, циклы, функции и др.) поддерживается благодаря отступам. **Четыре пробела** отделяют вложенный уровень от вышестоящего. \n",
    "\n",
    "Одиночные пробелы также важны. Если при наборе команд допустить хотя бы один лишний пробел в начале строки, то будет выведена ошибка (*IndentationError: unexpected indent*)\n",
    "\n",
    "Кому-то такая жёсткая организованность исходных кодов кажется неудобной, так как многие языки поддерживают другие способы организации иерархии исходного кода, например, С++ или Фортран90. \n",
    "\n",
    "В любом случае, следует помнить про **4 пробела** в python. Это особенно важно при использовании управляющих конструкций: функций, классов, циклов и ветвления.\n",
    "\n",
    "Согласно [pep8](http://pythonworld.ru/osnovy/pep-8-rukovodstvo-po-napisaniyu-koda-na-python.html#id3) функции и классы рекомендуется размещать в начале модуля после строк импорта сторонних модулей. Объявление функции/класса начинается с первой позиции строки и заканчивается двоеточием \":\". После двоеточия весь вложенный в конструкцию код необходимо начинать с 4 пробелов от позиции объявления конструкции. \n",
    "\n",
    "Класс может (и именно в этом его преимущетво) содержать в своём теле описание функций. Такие функции, принадлежащие классу, называются **методами класса**. Первым аргументом метода должен быть объект, который по негласному соглашению носит имя self. Подробнее о классах и их методах см. соответствующий раздел. Здесь важно как в классе может быть объявлена функция: 4 отступа от начала объявления класса.\n",
    "\n",
    "Тело функции (как и тело цикла и ветвления) также отделятся на 4 пробела от начала объявления соответствующей конструкции."
   ]
  },
  {
   "cell_type": "code",
   "execution_count": 1,
   "metadata": {
    "collapsed": false
   },
   "outputs": [
    {
     "name": "stdout",
     "output_type": "stream",
     "text": [
      "Hello, World!\n",
      "This is My_class function!\n",
      "0\n"
     ]
    }
   ],
   "source": [
    "class My_class():\n",
    "    print ('Hello, World!')\n",
    "    def class_def(self):   # объявление метода класса\n",
    "        print 'This is My_class function!'\n",
    "\n",
    "def fx(x):\n",
    "    print(x)   # тело функции должно отстоять на 4 пробела от позиции объявления функции\n",
    "\n",
    "a = 0\n",
    "b = [1, 2]\n",
    "\n",
    "cl = My_class()   # создание экземпляра класса\n",
    "cl.class_def()   # вызов метода (функции класса) экземпляра класса\n",
    "fx(a)   # вызов функции \n",
    "\n",
    "\n",
    "# c = True   # Ошибка! Необоснованный отступ "
   ]
  },
  {
   "cell_type": "markdown",
   "metadata": {},
   "source": [
    "В примере выше из-за синтаксической ошибки (неправильно написана команда) интерпретатор даже не выполнит ни создания экземпляра класса, ни вызов функции, который должен случиться раньше, чем возбуждение исключения ошибки.\n",
    "\n",
    "Для циклов и ветвления (подробнее см. соответствующую тему) принцип такой же, однако они могут иметь вложенность высокого порядка, причём в перемешку. И циклы и ветвление могут лежать как в теле функции, так и просто в модуле."
   ]
  },
  {
   "cell_type": "code",
   "execution_count": 2,
   "metadata": {
    "collapsed": false
   },
   "outputs": [
    {
     "name": "stdout",
     "output_type": "stream",
     "text": [
      "('Element is positive value:', 1)\n",
      "('Element is negative:', -12.0)\n",
      "('Element is less than -10', -12.0)\n",
      "HA-HA\n",
      "HA-HA\n",
      "('Element is positive value:', 4)\n",
      "('Element is zero', False)\n",
      "('Element is positive value:', 0.0031)\n"
     ]
    }
   ],
   "source": [
    "# Циклы и ветвление в модуле\n",
    "\n",
    "a = [1, -12., 4, False, 0.0031]\n",
    "\n",
    "for i in a:\n",
    "    if i < 0:\n",
    "        print('Element is negative:', i)\n",
    "        if (i <= -10):\n",
    "            print('Element is less than -10', i)\n",
    "            for j in range(2):\n",
    "                print('HA-HA')\n",
    "    elif i == 0:\n",
    "        print('Element is zero', i)\n",
    "    else:\n",
    "        print('Element is positive value:', i)"
   ]
  },
  {
   "cell_type": "code",
   "execution_count": 3,
   "metadata": {
    "collapsed": false
   },
   "outputs": [
    {
     "name": "stdout",
     "output_type": "stream",
     "text": [
      "!= 1\n",
      "!= 1\n",
      "!= 1\n",
      "!= 1\n",
      "1\n",
      "!= 1\n",
      "!= 1\n",
      "!= 1\n",
      "--------\n",
      "!= 1\n",
      "!= 1\n",
      "1\n",
      "!= 1\n"
     ]
    }
   ],
   "source": [
    "# Циклы и ветвление в функции\n",
    "\n",
    "def sums(z):\n",
    "    for x in z:\n",
    "        if(x == 1):\n",
    "            print('1')\n",
    "        else:\n",
    "            print('!= 1')\n",
    "\n",
    "r = [-3, -2, -1, 0, 1, 2, 3, 4]\n",
    "r2 = [False, False, True, False]\n",
    "\n",
    "sums(r)\n",
    "print('--------')\n",
    "sums(r2)"
   ]
  },
  {
   "cell_type": "markdown",
   "metadata": {},
   "source": [
    "### Индексация последовательностей\n",
    "\n",
    "В python, как в C++ или MatLab(c), нумерация элементов последовательности или индексация начинается с **нуля (0)**. В других языках, например, Fortran, индексация начинается с единицы (1). Поэтому список, состоящий из 5 элементов будет иметь следующие индексы: 0, 1, 2, 3, 4."
   ]
  },
  {
   "cell_type": "code",
   "execution_count": 4,
   "metadata": {
    "collapsed": false
   },
   "outputs": [
    {
     "name": "stdout",
     "output_type": "stream",
     "text": [
      "('Elements', [-10, 20, 24, 8, 0])\n",
      "('Indices', [0, 1, 2, 3, 4])\n"
     ]
    }
   ],
   "source": [
    "a = [-10, 20, 24, 8, 0]   # список из 5 элементов\n",
    "print('Elements', a)\n",
    "b = []   # создание пустого списка (0 элементов)\n",
    "for i in a:   # перебор элементов списка a в цикле for \n",
    "    indx = a.index(i)   # вычисление индекса элемента i в списке a\n",
    "    b.append(indx)   # добавление элемента indx в список b\n",
    "print('Indices', b)   # список из 5 элементов-индексов списка a"
   ]
  },
  {
   "cell_type": "markdown",
   "metadata": {},
   "source": [
    "#### Обход индексов в обратную сторону\n",
    "\n",
    "Python поддерживает индексацию последовательностей в обратную сторону, т.е. от последнего элемента к первому. Последний элемент в последовательности с индексом N также вызывается по индексу **-1**. Предпоследний с индексом N-1 - по индексу -2 и т.д.\n",
    "\n",
    "При этом индекс элемента(например, показываемый методом **index()** у списков и кортежей) остаётся положительным целым числом. Но появляется возможность обратиться к конечным элементам в более понятной форме, без вычисления длины последовательности."
   ]
  },
  {
   "cell_type": "code",
   "execution_count": 5,
   "metadata": {
    "collapsed": false
   },
   "outputs": [
    {
     "name": "stdout",
     "output_type": "stream",
     "text": [
      "('Origin', [-10, 20, 24, 8, 0])\n",
      "('Reversed', [0, 8, 24, 20, -10])\n"
     ]
    }
   ],
   "source": [
    "a = [-10, 20, 24, 8, 0]   # список из 5 элементов\n",
    "print('Origin', a)\n",
    "ii = range(-1, -6, -1)   # список из 5 элементов от -1 до -6 не включая с шагом -1\n",
    "b = []   # создание пустого списка (0 элементов)\n",
    "for i in ii:   # перебор элементов списка a в цикле for \n",
    "    indx = a[i]   # присваивание элемента списка a по отрицательному индексу\n",
    "    b.append(indx)   # добавление элемента indx в список b\n",
    "print('Reversed', b)   # перевёрнутый список a"
   ]
  },
  {
   "cell_type": "markdown",
   "metadata": {},
   "source": [
    "### Комментарии\n",
    "\n",
    "Файлы исходных кодов необходимо снабжать комментариями, которые позволяют стороннему пользователю быстрее понять код и реализацию алгоритма. \n",
    "\n",
    "Комментарии можно оставлять как в начале модуля, даже до блока импорта (места, где импортируются модули), так и по ходу кода. Функции и классы особенно необходимо описывать комментариями. Для этого у них есть особая возможность - строка документирования.\n",
    "\n",
    "#### Однострочный комментарий\n",
    "\n",
    "Строки, начинающиеся с символа решётка \"#\", обозначают в python однострочный комментарий. Однострочный комментарий может начинать строку, а может располагаться в конце строки кода. Согласно [pep8](http://pythonworld.ru/osnovy/pep-8-rukovodstvo-po-napisaniyu-koda-na-python.html#id3), стандарту написания кода на python, в этом случае необходимо делать отступ в 3 пробела от последнего символа команды кода."
   ]
  },
  {
   "cell_type": "code",
   "execution_count": 6,
   "metadata": {
    "collapsed": false
   },
   "outputs": [
    {
     "name": "stdout",
     "output_type": "stream",
     "text": [
      "Hello, world!\n"
     ]
    }
   ],
   "source": [
    "# Однострочный комментарий - он не будет выполнен, даже если здесь будет строка python-кода\n",
    "\n",
    "print('Hello, world!')   # это комментарий в конце строки"
   ]
  },
  {
   "cell_type": "markdown",
   "metadata": {},
   "source": [
    "#### Многострочный комментарий\n",
    "\n",
    "Для больших комментариев, которые не могут занять одну строку, существуют многострочные комментарии. Они обозначаются символами трёх кавычек (как одинарных, так и двойных) \n",
    "\n",
    "Стоит помнить, что для комментариев также применяется правило отступов. Необходимо соответствие между вложенными частями кода и расположенными в них комментариями. При описании комментариями циклов, ветвлений и функций интерпретатор выдаст ошибку, если комментарии будут расположены на в теле конструкции, в вне её. "
   ]
  },
  {
   "cell_type": "code",
   "execution_count": 7,
   "metadata": {
    "collapsed": false
   },
   "outputs": [
    {
     "name": "stdout",
     "output_type": "stream",
     "text": [
      "<type 'str'>\n"
     ]
    }
   ],
   "source": [
    "'''\n",
    "Это многострочный комментарий. \n",
    "Его видит только редактор исходного кода\n",
    "'''\n",
    "\n",
    "a = ''' А это уже строка! \\ \n",
    "Обратный слэш служит символом перевода строки, если она \\\n",
    "очень длинная\n",
    "'''\n",
    "\n",
    "print(type(a))"
   ]
  },
  {
   "cell_type": "markdown",
   "metadata": {},
   "source": [
    "#### Строка документации\n",
    "\n",
    "[Строка документации](http://pythonworld.ru/osnovy/dokumentirovanie-koda-v-python-pep-257.html) - это структурная часть функций и классов, а также модулей, которая позволяет хранить в виде строки некоторый текст. По соглашению этот текст посвящён описанию соответствующей структурной единицы и её особенностям. \n",
    "\n",
    "Удобство строки документации заключается в том, что если она есть у какого-либо объекта, то строку документации можно вызвать прямо в ходе выполнения программы и использовать информацию из неё. Обращение к строке документации осуществляется с помощью особого метода **\\__doc\\__** с помощью нотации от объекта, т.е. имя_объекта.\\__doc\\__.  "
   ]
  },
  {
   "cell_type": "code",
   "execution_count": 8,
   "metadata": {
    "collapsed": false
   },
   "outputs": [
    {
     "name": "stdout",
     "output_type": "stream",
     "text": [
      "\n",
      "    Doc string for function x1\n",
      "    \n",
      "\n",
      "    Doc string for class X1\n",
      "    \n",
      "---------------------\n",
      "Help on built-in module __main__:\n",
      "\n",
      "NAME\n",
      "    __main__ - Для модуля, имени которого ме не знаем, можно использовать функцию help().\n",
      "\n",
      "FILE\n",
      "    (built-in)\n",
      "\n",
      "CLASSES\n",
      "    My_class\n",
      "    X1\n",
      "    \n",
      "    class My_class\n",
      "     |  Methods defined here:\n",
      "     |  \n",
      "     |  class_def(self)\n",
      "    \n",
      "    class X1\n",
      "     |  Doc string for class X1\n",
      "\n",
      "FUNCTIONS\n",
      "    fx(x)\n",
      "    \n",
      "    sums(z)\n",
      "    \n",
      "    x1()\n",
      "        Doc string for function x1\n",
      "\n",
      "DATA\n",
      "    In = ['', u\"class My_class():\\n    print ('Hello, World!')...044b\\u043...\n",
      "    Out = {}\n",
      "    __ = ''\n",
      "    ___ = ''\n",
      "    a = 12\n",
      "    b = 7\n",
      "    cl = <__main__.My_class instance>\n",
      "    exit = <IPython.core.autocall.ZMQExitAutocall object>\n",
      "    i = -5\n",
      "    ii = [-1, -2, -3, -4, -5]\n",
      "    indx = -10\n",
      "    j = 1\n",
      "    quit = <IPython.core.autocall.ZMQExitAutocall object>\n",
      "    r = [-3, -2, -1, 0, 1, 2, 3, 4]\n",
      "    r2 = [False, False, True, False]\n",
      "    xx1 = <__main__.X1 instance>\n",
      "\n",
      "\n"
     ]
    }
   ],
   "source": [
    "# Функция\n",
    "def x1():\n",
    "    '''\n",
    "    Doc string for function x1\n",
    "    '''\n",
    "    pass\n",
    "\n",
    "# Класс\n",
    "class X1():\n",
    "    '''\n",
    "    Doc string for class X1\n",
    "    '''\n",
    "    pass\n",
    "    \n",
    "'''\n",
    "Doc string for module __main__\n",
    "'''\n",
    "\n",
    "a = 12\n",
    "b = a - 5\n",
    "# Модуль хранит имя в переменной __name__\n",
    "print(x1.__doc__)   # строка документации функции\n",
    "xx1 = X1()   # создание экземпляра класса X1\n",
    "print(xx1.__doc__)   # строка документации класса\n",
    "\n",
    "print('---------------------')\n",
    "\n",
    "'''\n",
    "Для модуля, имени которого ме не знаем, можно использовать \\\n",
    "функцию help().\n",
    "'''\n",
    "\n",
    "help(__name__)   # строка документации модуля"
   ]
  },
  {
   "cell_type": "markdown",
   "metadata": {},
   "source": [
    "Строка документации служит для организации описаний и комментариев в инструмент с единым интерфейсом. Проще говоря, почти у каждого объекта можно вызвать строку документации (все объекты в python имеют классово-объектную основу) с помощью функции \\__doc\\__(строго говоря это метод класса)."
   ]
  },
  {
   "cell_type": "code",
   "execution_count": 9,
   "metadata": {
    "collapsed": false
   },
   "outputs": [
    {
     "name": "stdout",
     "output_type": "stream",
     "text": [
      "----- Doc string for integer number -----\n",
      "int(x=0) -> int or long\n",
      "int(x, base=10) -> int or long\n",
      "\n",
      "Convert a number or string to an integer, or return 0 if no arguments\n",
      "are given.  If x is floating point, the conversion truncates towards zero.\n",
      "If x is outside the integer range, the function returns a long instead.\n",
      "\n",
      "If x is not a number or if base is given, then x must be a string or\n",
      "Unicode object representing an integer literal in the given base.  The\n",
      "literal can be preceded by '+' or '-' and be surrounded by whitespace.\n",
      "The base defaults to 10.  Valid bases are 0 and 2-36.  Base 0 means to\n",
      "interpret the base from the string as an integer literal.\n",
      ">>> int('0b100', base=0)\n",
      "4\n",
      "----- Doc string for list -----\n",
      "list() -> new empty list\n",
      "list(iterable) -> new list initialized from iterable's items\n",
      "\n",
      "----- Doc string for dictionary -----\n",
      "dict() -> new empty dictionary\n",
      "dict(mapping) -> new dictionary initialized from a mapping object's\n",
      "    (key, value) pairs\n",
      "dict(iterable) -> new dictionary initialized as if via:\n",
      "    d = {}\n",
      "    for k, v in iterable:\n",
      "        d[k] = v\n",
      "dict(**kwargs) -> new dictionary initialized with the name=value pairs\n",
      "    in the keyword argument list.  For example:  dict(one=1, two=2)\n"
     ]
    }
   ],
   "source": [
    "a = 2\n",
    "b = [1, 2, -2, -1]\n",
    "\n",
    "'''\n",
    "Чтобы передать функцию, а не результат её выполнения, \\\n",
    "не нужно ставить в конце скобки\n",
    "'''\n",
    "c = {'one':1, 'two':2, 'three':3}\n",
    "\n",
    "print('----- Doc string for integer number -----')\n",
    "print(a.__doc__)\n",
    "print('----- Doc string for list -----')\n",
    "print(b.__doc__)\n",
    "print('')\n",
    "print('----- Doc string for dictionary -----')\n",
    "print(c.__doc__)"
   ]
  },
  {
   "cell_type": "markdown",
   "metadata": {},
   "source": [
    "### Регистр\n",
    "\n",
    "Python чувствителен к регистру имён переменных. Так N и n есть разные имена переменных. Это касается и имён функций, модулей и классов. \n",
    "\n",
    "Например, для имён классов [по pep8](http://pythonworld.ru/osnovy/pep-8-rukovodstvo-po-napisaniyu-koda-na-python.html#id23) следует руководствоваться т.н. [\"стилем верблюда\"](https://ru.wikipedia.org/wiki/CamelCase) и начинать имя класса с заглавной буква.\n",
    "\n",
    "Так логическая переменная **ИСТИНА (True)** всегда пишется с большой буквы без кавычек. Вместо неё нельзя написать *true*."
   ]
  }
 ],
 "metadata": {
  "kernelspec": {
   "display_name": "Python 2",
   "language": "python",
   "name": "python2"
  },
  "language_info": {
   "codemirror_mode": {
    "name": "ipython",
    "version": 2
   },
   "file_extension": ".py",
   "mimetype": "text/x-python",
   "name": "python",
   "nbconvert_exporter": "python",
   "pygments_lexer": "ipython2",
   "version": "2.7.11"
  }
 },
 "nbformat": 4,
 "nbformat_minor": 0
}
