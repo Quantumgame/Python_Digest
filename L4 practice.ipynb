{
 "cells": [
  {
   "cell_type": "markdown",
   "metadata": {},
   "source": [
    "## Примеры к занятию N4 03.03.2016"
   ]
  },
  {
   "cell_type": "code",
   "execution_count": 146,
   "metadata": {
    "collapsed": false
   },
   "outputs": [
    {
     "name": "stdout",
     "output_type": "stream",
     "text": [
      "<type 'str'> Hello, World!\n",
      "Hello, World!\n"
     ]
    }
   ],
   "source": [
    "# ЛИСТИНГ 1 Ключевое слово open()\n",
    "\n",
    "f = open('hello.txt', 'r')\n",
    "s = f.readline()\n",
    "print type(s), s\n",
    "f.close()\n",
    "\n",
    "f1 = open('hello2.txt', 'w')\n",
    "mes = 'Another hello'\n",
    "f1.write(s)\n",
    "f1.close()\n",
    "\n",
    "f2 = open('hello2.txt', 'a')\n",
    "mes = 'Another hello'\n",
    "f2.write(mes)\n",
    "f2.close()\n",
    "\n",
    "f3 = open('hello.txt', 'r+')\n",
    "print f3.readline()\n",
    "f3.close()"
   ]
  },
  {
   "cell_type": "code",
   "execution_count": 147,
   "metadata": {
    "collapsed": false
   },
   "outputs": [
    {
     "name": "stdout",
     "output_type": "stream",
     "text": [
      "1\n",
      "2\n"
     ]
    }
   ],
   "source": [
    "# ЛИСТИНГ 2 Запись unicod-строк (русских букв)\n",
    "\n",
    "rus1 = 'Шла Саша по шоссе и сосала сушку.'\n",
    "f = open('rus.txt', 'w+')\n",
    "f.write(rus1)\n",
    "f.close()\n",
    "\n",
    "print '1'\n",
    "\n",
    "rus2 = u'Шла Саша по шоссе и сосала сушку.'\n",
    "rus2 = rus2.encode('utf8')   # решение\n",
    "f = open('rus.txt', 'w')\n",
    "f.write(rus2)\n",
    "f.close()\n",
    "\n",
    "print '2'"
   ]
  },
  {
   "cell_type": "code",
   "execution_count": 148,
   "metadata": {
    "collapsed": false
   },
   "outputs": [],
   "source": [
    "# ЛИСТИНГ 3 Оcобые символы\n",
    "\n",
    "s1 = '''Space: The final frontier\n",
    "These are the voyages of the Starship, Enterprise\n",
    "Its 5 year mission\n",
    "To explore strange new worlds\n",
    "To seek out new life and new civilizations\n",
    "To boldly go where no man has gone before'''\n",
    "\n",
    "f = open('star_trek_1.txt', 'w+')\n",
    "f.write(s1)\n",
    "f.close()\n",
    "\n",
    "s2 = '''Space: The final frontier These are the voyages of the Starship, Enterprise\n",
    "Its 5 year mission To explore strange new worlds\n",
    "To seek out new life and new civilizations To boldly go where no man has gone before'''\n",
    "\n",
    "f = open('star_trek_2.txt', 'w+')\n",
    "f.write(s2)\n",
    "f.close()\n",
    "\n",
    "# С использованием символа \\n\n",
    "\n",
    "s3 = '''Space: The final frontier\\nThese are the voyages of the Starship, Enterprise\\n\\\n",
    "Its 5 year mission To explore strange new worlds\\nTo seek out new life and new civilizations\\n\\\n",
    "To boldly go where no man has gone before'''\n",
    "\n",
    "f = open('star_trek_3.txt', 'w+')\n",
    "f.write(s3)\n",
    "f.close()"
   ]
  },
  {
   "cell_type": "code",
   "execution_count": 149,
   "metadata": {
    "collapsed": false
   },
   "outputs": [
    {
     "name": "stdout",
     "output_type": "stream",
     "text": [
      "Number of \"\\\" : 6\n",
      "pwd: c:\\Users\\pashabanov\\Dropbox\\digest\\lessons\\L4_03032016\n",
      "\n",
      "Origin d:\\Users\\tata\\python\\my_functions\n",
      "Without r d:\\Users\tata\\python\\my_functions\n",
      "\n",
      "Origin d:\\Users\\vader\\death_star\n",
      "Without r d:\\Users\u000b",
      "ader\\death_star\n",
      "\n",
      "Origin d:\\Users\\Vader\\death_star\n",
      "Without r d:\\Users\\Vader\\death_star\n",
      "\n",
      "Origin d:\\Users\\nose\\gogol\n",
      "Without r d:\\Users\n",
      "ose\\gogol\n"
     ]
    }
   ],
   "source": [
    "# ЛИСТИНГ 4 Экранирование обратной косой черты\n",
    "\n",
    "import os\n",
    "\n",
    "pwd = os.getcwd()   # получить путь текущего положения (аналог команды pwd в linux)\n",
    "print 'Number of \"\\\\\" :', pwd.count('\\\\')\n",
    "print 'pwd:', pwd\n",
    "\n",
    "s1r = r'd:\\Users\\tata\\python\\my_functions'\n",
    "s1 = 'd:\\Users\\tata\\python\\my_functions'   # горизонтальная табуляция\n",
    "\n",
    "s2r = r'd:\\Users\\vader\\death_star'\n",
    "s2 = 'd:\\Users\\vader\\death_star'   # вертикальная табуляция\n",
    "\n",
    "s3r = r'd:\\Users\\Vader\\death_star'   # Верхний регистр!\n",
    "s3 = 'd:\\Users\\Vader\\death_star'\n",
    "\n",
    "s4r = r'd:\\Users\\nose\\gogol'\n",
    "s4 = 'd:\\Users\\nose\\gogol'   # Перевод строки \\n\n",
    "\n",
    "print '\\nOrigin', s1r\n",
    "print 'Without r', s1   # горизонатальная табуляция\n",
    "print '\\nOrigin', s2r\n",
    "print 'Without r', s2   # вертикальная табуляция\n",
    "print '\\nOrigin', s3r\n",
    "print 'Without r', s3  \n",
    "print '\\nOrigin', s4r\n",
    "print 'Without r', s4  \n",
    "\n",
    "#s1, s2, s3"
   ]
  },
  {
   "cell_type": "code",
   "execution_count": 150,
   "metadata": {
    "collapsed": false
   },
   "outputs": [],
   "source": [
    "# ЛИСТИНГ 5 Запись списка чисел в файл\n",
    "\n",
    "import random \n",
    "a = range(20)\n",
    "ii = a[:]\n",
    "random.shuffle(a)\n",
    "\n",
    "f = open('numbers1.dat', 'w+')\n",
    "for i, val in zip(ii, a):\n",
    "    s = str(i)+str(val)+'\\n'\n",
    "    f.write(s)\n",
    "f.close()   # без закрытия в файл ничего не запишется\n",
    "\n",
    "f = open('numbers2.dat', 'w+')\n",
    "for i, val in zip(ii, a):\n",
    "    s = '%2d %5d\\n' % (i, val)\n",
    "    f.write(s)\n",
    "f.close()   # без закрытия в файл ничего не запишется"
   ]
  },
  {
   "cell_type": "code",
   "execution_count": 151,
   "metadata": {
    "collapsed": false
   },
   "outputs": [
    {
     "name": "stdout",
     "output_type": "stream",
     "text": [
      "Оригинал: London is a capital of Great Britain.\n",
      "Конкатенация: London is a capital of Great Britain. Russia is my motherland! 12\n",
      "Повтор: HA-HA-HA-HA-HA-HA-HA-HA-HA-HA-\n",
      "Срез: London i\n",
      "RUS u'С' in ss: False\n",
      "ENG 'C' in ss: True\n",
      "\n",
      "Number of elements: 65\n",
      "Max of list: y\n",
      "Min of list:  \n",
      "Sorted list: [' ', ' ', ' ', ' ', ' ', ' ', ' ', ' ', ' ', ' ', ' ', '!', '.', '1', '2', 'B', 'G', 'L', 'R', 'a', 'a', 'a', 'a', 'a', 'a', 'a', 'c', 'd', 'd', 'e', 'e', 'f', 'h', 'i', 'i', 'i', 'i', 'i', 'i', 'l', 'l', 'm', 'm', 'n', 'n', 'n', 'n', 'o', 'o', 'o', 'o', 'p', 'r', 'r', 'r', 's', 's', 's', 's', 't', 't', 't', 't', 'u', 'y']\n",
      "Перебор индексов и элементов\n",
      "0 L\n",
      "1 o\n",
      "2 n\n",
      "3 d\n",
      "4 o\n",
      "5 n\n",
      "6  \n",
      "7 i\n",
      "Обращение строки\t\n",
      "i   n o d n o L\n"
     ]
    }
   ],
   "source": [
    "# ЛИСТИНГ 6 Строки как последовательности\n",
    "\n",
    "ss = 'London is a capital of Great Britain.'\n",
    "print u'Оригинал:', ss\n",
    "\n",
    "# конкатенация\n",
    "ss = ss + ' Russia is my motherland! 12'\n",
    "print u'Конкатенация:', ss\n",
    "# повтор\n",
    "sa = 'HA-HA-'*5\n",
    "print u'Повтор:', sa\n",
    "\n",
    "sa = ss[0:8]\n",
    "print u'Срез:', sa\n",
    "\n",
    "print \"RUS u'С' in ss:\", u'с' in ss\n",
    "print \"ENG 'C' in ss:\", 'c' in ss\n",
    "\n",
    "print '\\nNumber of elements:', len(ss)\n",
    "print 'Max of list:', max(ss)\n",
    "print 'Min of list:', min(ss)\n",
    "print 'Sorted list:', sorted(ss)\n",
    "\n",
    "print 'Перебор индексов и элементов'\n",
    "for i, s in enumerate(sa):\n",
    "    print i,s\n",
    "    \n",
    "print 'Обращение строки\\t'\n",
    "for j in reversed(sa):\n",
    "    print j,"
   ]
  },
  {
   "cell_type": "code",
   "execution_count": 152,
   "metadata": {
    "collapsed": false
   },
   "outputs": [
    {
     "name": "stdout",
     "output_type": "stream",
     "text": [
      "AbraKadabra\n",
      "Lower case: abrakadabra\n",
      "Upper case: ABRAKADABRA\n",
      "Is Alpha: True\n",
      "1024 is digit: True\n",
      " 13. is digit: False\n",
      "12.5 is digit: False\n",
      "S starts with a: False\n",
      "S starts with . True\n"
     ]
    }
   ],
   "source": [
    "# ЛИСТИНГ 7 Методы строк\n",
    "'''\n",
    "lower() - приведение всех символов строки к нижнему регистру;\n",
    "upper() - приведение всех символов строки к верхнему регистру;\n",
    "isalpha() - возвращает True, если все символы строки являются буквами;\n",
    "isdigit() - возвращает True, если все символы строки строки являются числами;\n",
    "isspace() - возвращает True, если все символы строки строки являются пробелами;\n",
    "startswith('other') - возвращает True, если строка начинается с подстроки other;\n",
    "endswith('other') - возвращает True, если строка заканчивается на подстроку other;\n",
    "'''\n",
    "\n",
    "s = 'AbraKadabra'\n",
    "print s\n",
    "print 'Lower case:', s.lower()\n",
    "print 'Upper case:', s.upper()\n",
    "print 'Is Alpha:', s.isalpha()\n",
    "\n",
    "s1 = '1024'\n",
    "s2 = ' 13.'\n",
    "s3 = '12.5'\n",
    "\n",
    "for i in [s1, s2, s3]:\n",
    "    print i, 'is digit:', i.isdigit()\n",
    "    \n",
    "s = 'Abcdefghij.'\n",
    "print 'S starts with a:', s.startswith('a')\n",
    "print 'S starts with .', s.endswith('.')"
   ]
  },
  {
   "cell_type": "code",
   "execution_count": 153,
   "metadata": {
    "collapsed": false
   },
   "outputs": [
    {
     "name": "stdout",
     "output_type": "stream",
     "text": [
      "s = She smiles\n",
      "Find \"sm\" in s: 4\n",
      "Index \"sm\" in s: 4\n",
      "Count number of \"s\" in s: 2\n",
      "Replace \"she\" in s: He smiles\n",
      "Joined into string list of substrings 0-1-2-3-4\n",
      "   12  \n",
      "False\n",
      "12\n",
      "True\n"
     ]
    }
   ],
   "source": [
    "# ЛИСТИНГ 8 Методы поиска и замены в строках\n",
    "\n",
    "s = 'She smiles'\n",
    "\n",
    "print 's =', s\n",
    "print 'Find \"sm\" in s:', s.find('sm')\n",
    "print 'Index \"sm\" in s:', s.index('sm')\n",
    "\n",
    "print 'Count number of \"s\" in s:', s.count('s')\n",
    "print 'Replace \"she\" in s:', s.replace('She', 'He')\n",
    "\n",
    "s = '-'\n",
    "a = range(5)\n",
    "a = map(str, a)   # методы join необходимы подстроки, а не просто числа\n",
    "print \"Joined into string list of substrings\", '-'.join(a)\n",
    "\n",
    "s = '   12  '\n",
    "print s\n",
    "print s.isdigit()\n",
    "s = s.strip(' ')\n",
    "print s\n",
    "print s.isdigit()"
   ]
  },
  {
   "cell_type": "code",
   "execution_count": 154,
   "metadata": {
    "collapsed": false
   },
   "outputs": [
    {
     "name": "stdout",
     "output_type": "stream",
     "text": [
      "Split the string: ['cat', 'dog', 'lion', 'cow', 'chicken', 'rat', 'horse']\n",
      "Origin: АБВГДейка u'\\u0410\\u0411\\u0412\\u0413\\u0414\\u0435\\u0439\\u043a\\u0430'\n",
      "Encoding UTF8: АБВГДейка '\\xd0\\x90\\xd0\\x91\\xd0\\x92\\xd0\\x93\\xd0\\x94\\xd0\\xb5\\xd0\\xb9\\xd0\\xba\\xd0\\xb0'\n",
      "АБВГДейка means save our souls!\n",
      "АБВГДейка means save our souls!\n"
     ]
    }
   ],
   "source": [
    "# ЛИСТИНГ 9 Методы превращения строк в списки. Кодировки\n",
    "\n",
    "s = 'cat;dog;lion;cow;chicken;rat;horse'\n",
    "print 'Split the string:', s.split(';')\n",
    "\n",
    "s = u'АБВГДейка'\n",
    "print 'Origin:', s, repr(s)\n",
    "a = s.encode('utf8')\n",
    "print 'Encoding UTF8:', a, repr(a) \n",
    "\n",
    "print '{} means save our souls!'.format(a)   # Обычная строка\n",
    "print u'{} means save our souls!'.format(s)   # Unicode-строка\n",
    "#print u'{} means save our souls!'.format(a)   # Ошибка! Обычная подстрока вставляется в unicode строку\n",
    "#print '{} means save our souls!'.format(s)   # Ошибка! Unicode-подстрока вставляется в обычную строку"
   ]
  },
  {
   "cell_type": "code",
   "execution_count": 155,
   "metadata": {
    "collapsed": false
   },
   "outputs": [
    {
     "name": "stdout",
     "output_type": "stream",
     "text": [
      "Left: word    \n",
      "Right: ----word\n",
      "Center: **word**\n"
     ]
    }
   ],
   "source": [
    "# ЛИСТИНГ 10 Форматирование строк: выравнивание\n",
    "\n",
    "s = 'word'\n",
    "print 'Left:', s.ljust(len(s)+4, ' ')\n",
    "print 'Right:', s.rjust(len(s)+4, '-')\n",
    "print 'Center:', s.center(len(s)+4, '*')"
   ]
  },
  {
   "cell_type": "code",
   "execution_count": 156,
   "metadata": {
    "collapsed": false
   },
   "outputs": [
    {
     "name": "stdout",
     "output_type": "stream",
     "text": [
      "\"position is      right\"\n",
      "\"position is left      \"\n",
      "\"position is      right\"\n",
      "Today is 2016-03-02 18:03. Please, send 120 pounds to me! Your tax is 24.27\n",
      "Python has 002 quote types.\n"
     ]
    }
   ],
   "source": [
    "# ЛИСТИНГ 11 Форматирование строк: способ %\n",
    "\n",
    "import time\n",
    "\n",
    "print '\"position is %+10s\"' % 'right'\n",
    "print '\"position is %-10s\"' % 'left'\n",
    "print '\"position is % 10s\"' % 'right'\n",
    "\n",
    "s = time.strftime('%Y-%m-%d %H:%M')\n",
    "print 'Today is %s. Please, send %d pounds to me! Your tax is %.2f' % (s, 120, 24.27)\n",
    "\n",
    "# использование словаря в качестве правой части для именованных указателей формата\n",
    "print '%(language)s has %(number)03d quote types.' % {\"language\": \"Python\", \"number\": 2}\n"
   ]
  },
  {
   "cell_type": "code",
   "execution_count": 157,
   "metadata": {
    "collapsed": false
   },
   "outputs": [
    {
     "name": "stdout",
     "output_type": "stream",
     "text": [
      "1: Nooo, sir! Yessss, madame!\n",
      "2: Nooo, madame! Yessss, sir!\n",
      "3: Nooo, sir! Yessss, madame!\n",
      "0.333 <-> 2.8 **** 52\n",
      "___hello___\n"
     ]
    }
   ],
   "source": [
    "# ЛИСТИНГ 12 Форматирование: метод format()\n",
    "\n",
    "# Способы \n",
    "s = 'Nooo, {}! Yessss, {}!'.format('sir', 'madame')\n",
    "print '1: %s' % s\n",
    "s = 'Nooo, {1}! Yessss, {0}!'.format('sir', 'madame')\n",
    "print '2: %s' % s\n",
    "di = {'name1':'sir', 'word34':'madame'}\n",
    "s = 'Nooo, {name1}! Yessss, {word34}!'.format(name1='sir', word34='madame')\n",
    "print '3: %s' % s\n",
    "\n",
    "# Сложное форматирование в {}\n",
    "print '{0:.3} <-> {1:.1f} **** {2:d}'.format(1/3., 2.77, 52)\n",
    "print '{0:_^11}'.format('hello')"
   ]
  },
  {
   "cell_type": "markdown",
   "metadata": {},
   "source": [
    "## Работа с числовыми данными"
   ]
  },
  {
   "cell_type": "code",
   "execution_count": 158,
   "metadata": {
    "collapsed": false
   },
   "outputs": [],
   "source": [
    "# ЛИСТИНГ 13 Запись в файл методом write\n",
    "N = 30\n",
    "a = [random.random() for i in range(N)]   # список чисел\n",
    "s = '1'*30   # строка длины N\n",
    "t =  range(-199, -199+5*N, 5)\n",
    "\n",
    "z = zip(a, s, t)\n",
    "\n",
    "f = open('xwrite.dat', 'w+')\n",
    "for ss in z:\n",
    "    r = '%.2f %s %4d' % (ss[0], ss[1], ss[2])\n",
    "    f.write('%s\\n' % r)\n",
    "\n",
    "#    a = map(str, ss)\n",
    "#    s = ' '.join(a)\n",
    "#    f.write('%5s\\n' % s)\n",
    "    \n",
    "f.close()"
   ]
  },
  {
   "cell_type": "code",
   "execution_count": 159,
   "metadata": {
    "collapsed": false
   },
   "outputs": [
    {
     "name": "stdout",
     "output_type": "stream",
     "text": [
      "a type <type 'numpy.ndarray'> (793L, 3L)\n",
      "NAO type: <type 'numpy.ndarray'> (793L,)\n",
      "Max: 3.04 Min: -3.18\n",
      "Mean: -0.018 Std: 1.0114\n"
     ]
    }
   ],
   "source": [
    "# ЛИСТИНГ 14 Способы работы с числовыми данными: numpy.genfromtxt()\n",
    "# записанными в текстовые файлы\n",
    "\n",
    "import numpy as np\n",
    "\n",
    "a = np.genfromtxt('nao.txt')\n",
    "print \"a type\", type(a), a.shape\n",
    "\n",
    "year, mon, nao = np.genfromtxt('nao.txt', usecols=[0, 1, 2], unpack=True)\n",
    "print \"NAO type:\", type(nao), nao.shape\n",
    "print 'Max: %.2f Min: %.2f' % (nao.max(), nao.min())\n",
    "print 'Mean: %.3f Std: %.4f' % (nao.mean(), nao.std())"
   ]
  },
  {
   "cell_type": "code",
   "execution_count": 160,
   "metadata": {
    "collapsed": false
   },
   "outputs": [
    {
     "name": "stdout",
     "output_type": "stream",
     "text": [
      "a type: <class 'pandas.core.frame.DataFrame'> (755, 9)\n",
      "<class 'pandas.core.series.Series'>\n"
     ]
    },
    {
     "data": {
      "text/plain": [
       "<matplotlib.axes._subplots.AxesSubplot at 0xbbec8d0>"
      ]
     },
     "execution_count": 160,
     "metadata": {},
     "output_type": "execute_result"
    },
    {
     "data": {
      "image/png": "[encoded data removed]",
      "text/plain": [
       "<matplotlib.figure.Figure at 0xbeb5b38>"
      ]
     },
     "metadata": {},
     "output_type": "display_data"
    }
   ],
   "source": [
    "# ЛИСТИНГ 15 Способы работы с числовыми данными: pandas.read_csv()\n",
    "\n",
    "%matplotlib inline\n",
    "\n",
    "import pandas as pd\n",
    "\n",
    "a = pd.read_csv('27612.txt', sep=';', na_values=9999.9)\n",
    "print \"a type:\", type(a), a.shape\n",
    "p = a.iloc[:, 4]\n",
    "print type(p)\n",
    "p.plot(grid=True, color='k')\n",
    "#p = list(p.values)\n",
    "#print p[0:10]"
   ]
  },
  {
   "cell_type": "code",
   "execution_count": 161,
   "metadata": {
    "collapsed": false
   },
   "outputs": [],
   "source": [
    "# ЛИСТИНГ 16 Способы работы с числовыми данными: запись \"ala\" фортран\n",
    "\n",
    "import numpy as np\n",
    "\n",
    "x = np.random.random((12, 10, 7))\n",
    "\n",
    "ss = [] \n",
    "for i in xrange(12):\n",
    "    ss.append('  %d    %d\\n' % (2015, i+1))\n",
    "\n",
    "with file('testfile.txt', 'w') as outfile:   \n",
    "    for i, data_slice in enumerate(x):    \n",
    "        outfile.write(ss[i])\n",
    "        np.savetxt(outfile, data_slice, fmt='%9.3f')"
   ]
  }
 ],
 "metadata": {
  "kernelspec": {
   "display_name": "Python 2",
   "language": "python",
   "name": "python2"
  },
  "language_info": {
   "codemirror_mode": {
    "name": "ipython",
    "version": 2
   },
   "file_extension": ".py",
   "mimetype": "text/x-python",
   "name": "python",
   "nbconvert_exporter": "python",
   "pygments_lexer": "ipython2",
   "version": "2.7.11"
  }
 },
 "nbformat": 4,
 "nbformat_minor": 0
}
