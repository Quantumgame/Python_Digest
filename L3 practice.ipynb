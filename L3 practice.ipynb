{
 "cells": [
  {
   "cell_type": "markdown",
   "metadata": {},
   "source": [
    "## Примеры"
   ]
  },
  {
   "cell_type": "code",
   "execution_count": 141,
   "metadata": {
    "collapsed": false
   },
   "outputs": [
    {
     "name": "stdout",
     "output_type": "stream",
     "text": [
      "Origin [-10, -9, -8, -7, -6, -5, -4, -3, -2, -1, 0, 1, 2, 3, 4, 5, 6, 7, 8, 9, 10]\n",
      "-2 in a : True\n",
      "-20 in a : False\n",
      "first elem -10\n",
      "[-7, -6]\n",
      "[-6, -5, -4, -3, -2, -1, 0, 1, 2, 3, 4, 5, 6, 7, 8, 9, 10]\n",
      "[-10, -9, -8, -7, -6, -5]\n",
      "reversed moc.liamg@vonabahs.ap\n",
      "last elem m\n",
      "pa.shabanov@gmail.co\n",
      "pa.shabanov@gmail.co\n",
      "@gmail.com\n"
     ]
    }
   ],
   "source": [
    "# ЛИСТИНГ 1 Срезы и индексация\n",
    "\n",
    "# Срезы и индексация\n",
    "# Схема взятия среза: A[start, stop, step]\n",
    "\n",
    "a = range(-10, 11, 1)\n",
    "print 'Origin', a\n",
    "\n",
    "print '-2 in a :', -2 in a\n",
    "print '-20 in a :', -20 in a\n",
    "\n",
    "print 'first elem', a[0]\n",
    "print a[3:5]\n",
    "print a[4:]\n",
    "print a[:6]\n",
    "\n",
    "a = 'pa.shabanov@gmail.com'\n",
    "\n",
    "print 'reversed', a[::-1]\n",
    "\n",
    "print 'last elem', a[-1]\n",
    "print a[-len(a):-1]\n",
    "print a[:-1]\n",
    "print a[-10:]"
   ]
  },
  {
   "cell_type": "code",
   "execution_count": 142,
   "metadata": {
    "collapsed": false
   },
   "outputs": [
    {
     "name": "stdout",
     "output_type": "stream",
     "text": [
      "Number of elements: 8\n",
      "Max of list: 89\n",
      "Min of list: -10\n",
      "Sorted list: [-10, -9, -5, 3, 7, 14, 22, 89]\n"
     ]
    }
   ],
   "source": [
    "# ЛИСТИНГ 2 len(), max(), min(), sorted() \n",
    "\n",
    "y = [-10, 22, 14, 89, 3, -9, 7, -5]\n",
    "\n",
    "print 'Number of elements:', len(y)\n",
    "print 'Max of list:', max(y)\n",
    "print 'Min of list:', min(y)\n",
    "print 'Sorted list:', sorted(y)"
   ]
  },
  {
   "cell_type": "code",
   "execution_count": 143,
   "metadata": {
    "collapsed": false
   },
   "outputs": [
    {
     "name": "stdout",
     "output_type": "stream",
     "text": [
      "Mask sum: 2\n",
      "0 c\n",
      "1 h\n",
      "2 a\n",
      "3 t\n",
      "4 t\n",
      "5 e\n",
      "6 r\n",
      "7 b\n",
      "8 o\n",
      "9 x\n",
      "SS max: x\n"
     ]
    }
   ],
   "source": [
    "# ЛИСТИНГ 3 enumerate()  и sum()\n",
    "\n",
    "mask = [True, False, False, True]\n",
    "\n",
    "# Подсчёт числа истинных значений в списке\n",
    "print 'Mask sum:', sum(mask)\n",
    "\n",
    "ss = 'chatterbox'\n",
    "for i,val in enumerate(ss):\n",
    "    print i, val\n",
    "print 'SS max:', max(ss)\n",
    "#print 'SS sum:', sum(ss)   # Ошибка!"
   ]
  },
  {
   "cell_type": "code",
   "execution_count": 144,
   "metadata": {
    "collapsed": false
   },
   "outputs": [
    {
     "name": "stdout",
     "output_type": "stream",
     "text": [
      "[5, 10, 15, 20, 25, 30, 35, 40, 45, 50, 55, 60, 65, 70, 75, 80, 85, 90, 95, 100, 105, 110, 115, 120, 125]\n"
     ]
    }
   ],
   "source": [
    "# ЛИСТИНГ 4 Append() метод для списков\n",
    "\n",
    "a = []\n",
    "N = 129\n",
    "for i in range(N):\n",
    "    if i%5 == 0 and i !=0:\n",
    "        a.append(i)\n",
    "print a"
   ]
  },
  {
   "cell_type": "code",
   "execution_count": 145,
   "metadata": {
    "collapsed": false
   },
   "outputs": [
    {
     "name": "stdout",
     "output_type": "stream",
     "text": [
      "i: 7 v: 17\n",
      "i: 7\n",
      "v: 17\n"
     ]
    }
   ],
   "source": [
    "# ЛИСТИНГ 5 Поиск индекса максимального значения - index()\n",
    "\n",
    "# Поиск индекса максимального значения \n",
    "\n",
    "z = [0, 4, 7, -1, -28, 2, 5, 17, -6]\n",
    "\n",
    "vmax = -9999\n",
    "ii = 0\n",
    "for i in range(len(z)):\n",
    "    if z[i] > vmax:\n",
    "        vmax = z[i]\n",
    "        imax = i\n",
    "print 'i:', imax, 'v:', vmax\n",
    "\n",
    "# Index() метод для списков и  кортежей\n",
    "\n",
    "vmax = max(z)\n",
    "imax = z.index(vmax)\n",
    "print 'i:', imax\n",
    "print 'v:', vmax"
   ]
  },
  {
   "cell_type": "code",
   "execution_count": 146,
   "metadata": {
    "collapsed": false
   },
   "outputs": [
    {
     "name": "stdout",
     "output_type": "stream",
     "text": [
      "[7, 4, 3, 2, 1]\n",
      "val: 0 count: 7\n",
      "val: 1 count: 4\n",
      "val: 2 count: 3\n",
      "val: 3 count: 2\n",
      "val: 4 count: 1\n",
      "{0: 7, 1: 4, 2: 3, 3: 2, 4: 1}\n"
     ]
    }
   ],
   "source": [
    "# ЛИСТИНГ 6 Подсчёт частоты - count(), append()\n",
    "\n",
    "# в качестве \"хранилища\" данных - список\n",
    "c = []\n",
    "z = [0, 0, 1, 2, 0, 1, 4, 2, 1, 3, 0, 2, 1, 0, 0, 0, 3]\n",
    "zz = list(set(z))\n",
    "zz.sort()\n",
    "\n",
    "for a in zz:\n",
    "    b = z.count(a)\n",
    "    c.append(b)\n",
    "    \n",
    "print c\n",
    "\n",
    "# хранилище - словарь\n",
    "d = {}\n",
    "\n",
    "for a in zz:\n",
    "    b = z.count(a)\n",
    "    d[a] = b\n",
    "    print 'val:',a, 'count:', b\n",
    "print d"
   ]
  },
  {
   "cell_type": "code",
   "execution_count": 147,
   "metadata": {
    "collapsed": false
   },
   "outputs": [
    {
     "name": "stdout",
     "output_type": "stream",
     "text": [
      "[(1970, 0.3803180611461816), (1980, 0.14639956241413898), (1990, 0.8029039656113601)]\n",
      "insert: 1 1986\n",
      "insert: 0 1971\n",
      "insert: 2 1982\n",
      "[1970, 1971, 1980, 1982, 1986, 1990]\n",
      "[0.3803180611461816, 2, 0.14639956241413898, 1, 3, 0.8029039656113601]\n"
     ]
    }
   ],
   "source": [
    "# ЛИСТИНГ 7 Insert() метод для списков\n",
    "\n",
    "# Простой вариант\n",
    "\n",
    "import random\n",
    "\n",
    "t = range(1970, 2000, 10)\n",
    "y = [random.random() for i in range(len(t))]\n",
    "\n",
    "print zip(t, y)\n",
    "\n",
    "dates = {1982: 1, 1971: 2, 1986: 3}\n",
    "\n",
    "for key in dates:\n",
    "    val = dates[key]\n",
    "    for i in range(len(t) - 1):\n",
    "        if t[i] < key < t[i+1]:           \n",
    "            print 'insert:', i, key\n",
    "            t.insert(i+1, key)\n",
    "            y.insert(i+1, val)\n",
    "            break\n",
    "        \n",
    "print t\n",
    "print y"
   ]
  },
  {
   "cell_type": "code",
   "execution_count": 148,
   "metadata": {
    "collapsed": false
   },
   "outputs": [
    {
     "name": "stdout",
     "output_type": "stream",
     "text": [
      "I: [0, 1, -99, 3, 4, 5, 6, 7, 8, 9, 10, 11]\n",
      "a is like b True\n",
      "II: [0, 1, 2, 3, 4, 5, 6, 7, 8, 9, 10, 11]\n",
      "a is like b False\n",
      "II: [0, 1, 2, 3, 4, 5, 6, 7, 8, 9, 10, 11]\n",
      "a is like b False\n"
     ]
    }
   ],
   "source": [
    "# ЛИСТИНГ 8 Создание копий списков(copy)\n",
    "\n",
    "import copy\n",
    "\n",
    "# Ссылка на один объект\n",
    "a = range(12)\n",
    "b = a   # 1\n",
    "b[2] = -99\n",
    "print 'I:', a\n",
    "print 'a is like b', a is b\n",
    "\n",
    "# Поверхностное копирование\n",
    "a = range(12)\n",
    "b = a[:]   # 2\n",
    "b[2] = -99\n",
    "print 'II:', a\n",
    "print 'a is like b', a is b\n",
    "\n",
    "# Полное копирование\n",
    "b = a[:]\n",
    "b = copy.deepcopy(a)   # 3\n",
    "b[2] = -99\n",
    "print 'II:', a\n",
    "print 'a is like b', a is b"
   ]
  },
  {
   "cell_type": "code",
   "execution_count": 149,
   "metadata": {
    "collapsed": false
   },
   "outputs": [
    {
     "name": "stdout",
     "output_type": "stream",
     "text": [
      "Origin [[1, 1], [2, 2], [3, 3], 4]\n",
      "I: [[1, 1], [2, 2], [3, -99], 4]\n",
      "a is like b False\n",
      "II: [[1, 1], [2, 2], [3, 3], 4]\n",
      "a is like b False\n"
     ]
    }
   ],
   "source": [
    "# ЛИСТИНГ 9 Проблемы поверхностного копирования\n",
    "\n",
    "import copy\n",
    "\n",
    "a = [[1, 1], [2, 2], [3, 3], 4]\n",
    "print 'Origin', a\n",
    "b = a[:]   # поверхностное копирование\n",
    "b[-1] = 99\n",
    "b[2][-1] = -99\n",
    "print 'I:', a\n",
    "print 'a is like b', a is b\n",
    "\n",
    "a = [[1, 1], [2, 2], [3, 3], 4]\n",
    "b = copy.deepcopy(a)   # полное копирование\n",
    "\n",
    "b[-1] = 99\n",
    "b[2][-1] = -99\n",
    "\n",
    "print 'II:', a\n",
    "print 'a is like b', a is b"
   ]
  },
  {
   "cell_type": "code",
   "execution_count": 150,
   "metadata": {
    "collapsed": false
   },
   "outputs": [
    {
     "name": "stdout",
     "output_type": "stream",
     "text": [
      "{'a': 0.1742136176399851, 'c': 0.5786715476612367, 'e': 0.019731001679879068, 'g': 0.01142325352647866, 'f': 0.9037214537511621, 'i': 0.5786893132663999, 'k': 0.9072487444361484, 'n': 0.7210208221795935, 's': 0.4938399807013393, 'r': 0.05377610326679094, 'u': 0.6817776935205745, 't': 0.9924019876255377, '_': 0.11758929784699468} 0.117589297847\n"
     ]
    }
   ],
   "source": [
    "# ЛИСТИНГ 10 Создание словаря из списка и строки с помощью zip()\n",
    "\n",
    "N = 20\n",
    "a = [random.random() for i in range(N)]\n",
    "b = 'starcraft_kingreturn'\n",
    "c = zip(b, a)\n",
    "c = dict(c)\n",
    "print c, c['_']"
   ]
  },
  {
   "cell_type": "code",
   "execution_count": 151,
   "metadata": {
    "collapsed": false
   },
   "outputs": [
    {
     "name": "stdout",
     "output_type": "stream",
     "text": [
      "Hello, World!\n",
      "['H', 'E', 'L', 'L', 'O', ',', ' ', 'W', 'O', 'R', 'L', 'D', '!']\n",
      "<type 'list'> [(True, -10, 'S'), (True, -20, 'c'), (True, -30, 'i'), (True, -40, 'F')]\n"
     ]
    }
   ],
   "source": [
    "# ЛИСТИНГ 11 map() и zip()\n",
    "\n",
    "s = 'Hello, World!'\n",
    "print s\n",
    "a = range(-5, 5, 1)\n",
    "print map(str.capitalize, s)\n",
    "a = map(bool, a)   # трансформация целых чисел в логический тип данных\n",
    "\n",
    "b = (-10, -20, -30, -40)\n",
    "c = 'SciFi'\n",
    "z = zip(a, b, c)\n",
    "print type(z), z"
   ]
  },
  {
   "cell_type": "code",
   "execution_count": 152,
   "metadata": {
    "collapsed": false
   },
   "outputs": [
    {
     "name": "stdout",
     "output_type": "stream",
     "text": [
      "[1, 1.7689000000000001, 4, 12.25, 0, 14884.0]\n",
      "[-1, 1, -2, 3, 0, -122]\n",
      "['-1', '1.33', '-2', '3.5', 'False', '-122.0']\n",
      "[False, False, False, False, False, False]\n",
      "[True, True, False, False, False, False, False, True, True, False, False, True, False, False]\n"
     ]
    }
   ],
   "source": [
    "# ЛИСТИНГ 12 Функция map()\n",
    "\n",
    "def foo(x):\n",
    "    if type(x) != str:\n",
    "        return x**2\n",
    "    else:\n",
    "        return x*2\n",
    "\n",
    "z = [-1, 1.33, -2, 3.5, False, -122.]\n",
    "#z = [-1, 1.33, -2, 's', 3.5, False, -122.]\n",
    "\n",
    "# пользовательская функция\n",
    "a = map(foo, z)\n",
    "print a\n",
    "\n",
    "# встроенный идентификатор\n",
    "b = map(int, z)\n",
    "print b\n",
    "\n",
    "c = map(str, z)\n",
    "print c\n",
    "\n",
    "# метод стандартного типа данных\n",
    "c = map(str.isdigit, c)\n",
    "print c\n",
    "# НО\n",
    "d = map(str.isdigit, '10fTrue57_$1ds')\n",
    "print d"
   ]
  },
  {
   "cell_type": "code",
   "execution_count": 153,
   "metadata": {
    "collapsed": false
   },
   "outputs": [
    {
     "name": "stdout",
     "output_type": "stream",
     "text": [
      "Origin [0, 1, 2, 3, 4, 5, 6, 7, 8, 9, 10, 11, 12, 13, 14]\n",
      "Shuffled [4, 2, 0, 7, 3, 10, 5, 9, 8, 11, 13, 12, 1, 14, 6]\n",
      "Sampled [3, 9, 4, 13, 1]\n",
      "Choice 13\n",
      "Random value 0.897523118911\n",
      "0.143418001219\n",
      "Randint value 3\n"
     ]
    }
   ],
   "source": [
    "# ЛИСТИНГ 13 Возможности модуля random\n",
    "\n",
    "import random\n",
    "\n",
    "a = range(15)\n",
    "print 'Origin', a\n",
    "\n",
    "#1\n",
    "random.shuffle(a)\n",
    "print 'Shuffled', a\n",
    "\n",
    "#2\n",
    "N = 5\n",
    "sam = random.sample(a, N)\n",
    "print 'Sampled', sam\n",
    "\n",
    "#3\n",
    "ch = random.choice(sam)\n",
    "print 'Choice', ch\n",
    "\n",
    "#4\n",
    "r = random.random()\n",
    "print 'Random value', r\n",
    "\n",
    "print random.random()*2. - 1.   # [-1, 1)\n",
    "\n",
    "#5\n",
    "ri = random.randint(-len(a), len(a))\n",
    "print 'Randint value', ri"
   ]
  },
  {
   "cell_type": "code",
   "execution_count": 154,
   "metadata": {
    "collapsed": false
   },
   "outputs": [
    {
     "name": "stdout",
     "output_type": "stream",
     "text": [
      "0 1 2 3 4 5 6 \n",
      "0 1 2 3 4 5 6 \n",
      "0 1 2 3 4 5 6 \n",
      "0 1 2 3 4 5 6 \n",
      "0 1 2 3 4 5 6 \n",
      "0 1 2 3 4 5 6 \n",
      "0 1 2 3 4 5 6 \n",
      "---------- N= 49\n",
      "\n",
      "0 \n",
      "0 1 \n",
      "0 1 2 \n",
      "0 1 2 3 \n",
      "0 1 2 3 4 \n",
      "0 1 2 3 4 5 \n",
      "---------- N= 21\n"
     ]
    }
   ],
   "source": [
    "# ЛИСТИНГ 14 Число проходов для двух вложенных циклов одинаковой длины!\n",
    "\n",
    "n = 7\n",
    "\n",
    "# квадрат\n",
    "c = 0\n",
    "for i in range(n):\n",
    "    for j in range(n):\n",
    "        c += 1\n",
    "        print j,\n",
    "    print ''\n",
    "\n",
    "print '---------- N=', c\n",
    "\n",
    "c = 0\n",
    "for i in range(n):\n",
    "    for j in range(i):\n",
    "        c += 1\n",
    "        print j,\n",
    "    print ''\n",
    "print '---------- N=', c"
   ]
  },
  {
   "cell_type": "markdown",
   "metadata": {},
   "source": [
    "## Алгоритмы сортировки"
   ]
  },
  {
   "cell_type": "code",
   "execution_count": 155,
   "metadata": {
    "collapsed": false
   },
   "outputs": [
    {
     "name": "stdout",
     "output_type": "stream",
     "text": [
      "Before [7, 8, 4, 9, 1, 2, 0, 6, 5, 3]\n",
      "\n",
      "i= 0  1 2 3 4 5 6 7 8 9 \n",
      "i= 1  2 3 4 5 6 7 8 9 \n",
      "i= 2  3 4 5 6 7 8 9 \n",
      "i= 3  4 5 6 7 8 9 \n",
      "i= 4  5 6 7 8 9 \n",
      "i= 5  6 7 8 9 \n",
      "i= 6  7 8 9 \n",
      "i= 7  8 9 \n",
      "i= 8  9 \n",
      "i= 9  \n",
      "After [9, 8, 7, 6, 5, 4, 3, 2, 1, 0] 45\n"
     ]
    }
   ],
   "source": [
    "# ЛИСТИНГ 15 Сортировка выбором (Selection sort)\n",
    "\n",
    "'''\n",
    "Сортировка выбором (англ. Selection sort) — поиск наименьшего или наибольшего элемента \n",
    "и помещение его в начало или конец упорядоченного списка. Сложность алгоритма: O(n^2).\n",
    "\n",
    "\n",
    "Описание алгоритма:\n",
    "\n",
    "1) найти наименьший элемент в массиве\n",
    "2) поменять местами его и первый элемент в массиве\n",
    "3) найти следующий наименьший элемент в массиве \n",
    "   (исключая найденный экстремум) и поменять местами его и второй элемент массива\n",
    "4) продолжать это пока весь массив не будет отсортирован\n",
    "\n",
    "P.S. Можно заменить поиск минимума на поиск максимума и вставлять \n",
    "найденный экстремум в конец, а не в начало списка\n",
    "'''\n",
    "\n",
    "import random\n",
    "\n",
    "n = 10\n",
    "z = range(n)\n",
    "random.shuffle(z)\n",
    "print 'Before', z\n",
    "print ''\n",
    "c=0\n",
    "for i in range(len(z)):\n",
    "    print 'i=', i, '',\n",
    "#for i in reversed(range(len(z))):\n",
    "    ii = i   # индекс текущего максимума\n",
    "#    for j in range(i, len(z)):\n",
    "    for j in range(i+1, len(z)):\n",
    "        c += 1\n",
    "        print j,\n",
    "        if z[j] > z[ii]:   # поиск максимума > / минимума <        \n",
    "            ii = j\n",
    "    # Перестановка найденного минимума с текущим i-ым элементом\n",
    "    tmp = z[ii]\n",
    "    z[ii] = z[i]\n",
    "    z[i] = tmp\n",
    "    print ''\n",
    "#print 'N=', c\n",
    "\n",
    "print 'After', z, c"
   ]
  },
  {
   "cell_type": "code",
   "execution_count": 156,
   "metadata": {
    "collapsed": false
   },
   "outputs": [
    {
     "name": "stdout",
     "output_type": "stream",
     "text": [
      "Before [5, 2, 7, 4, 0, 9, 8, 6]\n",
      "After [0, 2, 4, 5, 6, 7, 8, 9] 11\n"
     ]
    }
   ],
   "source": [
    "# ЛИСТИНГ 16 Сортировка вставками (Insertion sort)\n",
    "\n",
    "'''\n",
    "Сортировка вставками (Insertion sort) — определяем, где текущий элемент должен находиться \n",
    "в упорядоченном списке, и вставляем его туда. Сложность алгоритма: O(n^2).\n",
    "\n",
    "Описание алгоритма:\n",
    "\n",
    "1) i-го элемент последовательности (i > 0) сравнивается на упорядоченность с предыдущим элементом (i-1)\n",
    "2) если неравенство на упорядоченность не выполняется, то на i позицию записывается i-1 элемент. \n",
    "   При этом осуществляется переход к предыдущему элементу и процедура повторяется пока текущий элемент \n",
    "   либо не достигнет начала последовательности, либо не займёт упорядоченное положение между соседними \n",
    "   элементами. После этого текущий элемент располагается на той позиции, на которую его вывел алгоритм.\n",
    "3) происходит переход к другой итерации i \n",
    "'''\n",
    "\n",
    "import random\n",
    "\n",
    "n = 15\n",
    "z = range(n)\n",
    "random.shuffle(z)\n",
    "\n",
    "z = [5, 2, 7, 4, 0, 9, 8, 6]\n",
    "print 'Before', z\n",
    "\n",
    "c = 0\n",
    "for i, v in enumerate(z):\n",
    "    j = i\n",
    "    while (z[j-1] > v) and (j > 0):\n",
    "        c += 1\n",
    "        z[j] = z[j-1]\n",
    "        j = j - 1\n",
    "    z[j] = v\n",
    "\n",
    "print 'After', z, c"
   ]
  },
  {
   "cell_type": "code",
   "execution_count": 157,
   "metadata": {
    "collapsed": false
   },
   "outputs": [
    {
     "name": "stdout",
     "output_type": "stream",
     "text": [
      "Before [6, 5, 1, 9, 8, 0, 3, 7, 4, 2]\n",
      "i= 7 0 1 2 3 4 5 6 \n",
      "i= 6 0 1 2 3 4 5 \n",
      "i= 5 0 1 2 3 4 \n",
      "i= 4 0 1 2 3 \n",
      "i= 3 0 1 2 \n",
      "i= 2 0 1 \n",
      "i= 1 0 \n",
      "i= 0 \n",
      "After [0, 2, 4, 5, 6, 7, 8, 9] 11\n"
     ]
    }
   ],
   "source": [
    "# ЛИСТИНГ 17 Сортировка \"пузырьком\" (Bubble sort)\n",
    "\n",
    "'''\n",
    "Сортировка пузырьком (англ. Bubble sort) — для каждой пары индексов производится обмен, \n",
    "если элементы расположены не по порядку. Сложность алгоритма: O(n^2).\n",
    "\n",
    "Описание алгоритма:\n",
    "\n",
    "1) последовательно сравниваем пары соседних элементов;\n",
    "2) если они расположены не по порядку - переставляем их;\n",
    "3) проходим так всю выборку пока все элеметы не будут упорядочены\n",
    "   (за один прогон в случае сортировки по возрастанию максимальное \n",
    "   значение \"всплывает\" вверх).\n",
    "'''\n",
    "import random\n",
    "\n",
    "n = 10\n",
    "z = range(n)\n",
    "random.shuffle(z)\n",
    "print 'Before', z\n",
    "\n",
    "z = [5, 2, 7, 4, 0, 9, 8, 6] \n",
    "\n",
    "c = 0\n",
    "zi = range(len(z))\n",
    "for i in reversed(zi): \n",
    "    print 'i=', i,\n",
    "    for j in range(i):\n",
    "        print j,\n",
    "        if z[j] > z[j+1]: # по возрастанию\n",
    "            c += 1    \n",
    "            z[j], z[j+1] = z[j+1], z[j]\n",
    "    print ''\n",
    "print 'After', z, c"
   ]
  }
 ],
 "metadata": {
  "kernelspec": {
   "display_name": "Python 2",
   "language": "python",
   "name": "python2"
  },
  "language_info": {
   "codemirror_mode": {
    "name": "ipython",
    "version": 2
   },
   "file_extension": ".py",
   "mimetype": "text/x-python",
   "name": "python",
   "nbconvert_exporter": "python",
   "pygments_lexer": "ipython2",
   "version": "2.7.11"
  }
 },
 "nbformat": 4,
 "nbformat_minor": 0
}
