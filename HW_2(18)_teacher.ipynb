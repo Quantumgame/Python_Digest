{
 "cells": [
  {
   "cell_type": "markdown",
   "metadata": {},
   "source": [
    "# Домашнее задание II\n",
    "\n",
    "### Подсказки\n",
    "\n",
    "+ Вывести на экран - функция **print**;\n",
    "\n",
    "+ Для генерации списка длины n, состоящего из **псевдослучайных** чисел, воспользуйтесь кодом из Примера;\n",
    "\n",
    "+ Для печати в строчку, а не в столбик (по умолчанию), необходимо поставить в конце оператора **print** после имён переменных запятую (см. последнюю строчку в Примере)."
   ]
  },
  {
   "cell_type": "code",
   "execution_count": null,
   "metadata": {
    "collapsed": true
   },
   "outputs": [],
   "source": [
    "import random\n",
    "n = 50\n",
    "y = []\n",
    "for i in range(n):\n",
    "    prnum = random.random()\n",
    "    y.append(prnum)   # добавление случайного числа prnum в список y"
   ]
  },
  {
   "cell_type": "markdown",
   "metadata": {},
   "source": [
    "### Задание 1\n",
    "\n",
    "Вывести на экран в строчку числа, кратные n, из списка элементов от 0 до 99 включительно с шагом 1. Ноль не печатать.\n",
    "\n",
    "**Пример ответа (n=7):** 7 14 21 28 35 42 49 56 63 70 77 84 91 98 "
   ]
  },
  {
   "cell_type": "code",
   "execution_count": 10,
   "metadata": {
    "collapsed": false
   },
   "outputs": [
    {
     "name": "stdout",
     "output_type": "stream",
     "text": [
      "7 14 21 28 35 42 49 56 63 70 77 84 91 98\n"
     ]
    }
   ],
   "source": [
    "n = 7\n",
    "\n",
    "x = range(100)\n",
    "for y in x:\n",
    "    if y == 0: continue\n",
    "    if y%n == 0: print y,"
   ]
  },
  {
   "cell_type": "markdown",
   "metadata": {},
   "source": [
    "### Задание 2 \n",
    "\n",
    "Вывести на экран максимум из списка длины n, состоящего из псевдослучайных чисел. \n",
    "\n",
    "**Пример ответа:** 0.965129132053"
   ]
  },
  {
   "cell_type": "code",
   "execution_count": 2,
   "metadata": {
    "collapsed": false
   },
   "outputs": [
    {
     "name": "stdout",
     "output_type": "stream",
     "text": [
      "float(x) -> floating point number\n",
      "\n",
      "Convert a string or number to a floating point number, if possible.\n",
      "0.965129132053 0.965129132053\n"
     ]
    }
   ],
   "source": [
    "import random\n",
    "n = 50\n",
    "y = []\n",
    "print random.random().__doc__\n",
    "#z = [random.random() for i in range(n)]\n",
    "for i in range(n):\n",
    "    y.append(random.random())   # добавление случайного числа в список y\n",
    "#    print i, y[i], z[i]\n",
    "\n",
    "extr = -9999.   # 9999\n",
    "for e in y:\n",
    "    if e >= extr:\n",
    "        extr = e\n",
    "print max(y), extr"
   ]
  },
  {
   "cell_type": "markdown",
   "metadata": {},
   "source": [
    "### Задание 3\n",
    "\n",
    "Подсчитать сколько раз встречается буква \"s\" в скороговорке ss и вывести результат на экран. \n",
    "\n",
    "Скороговорка ss = *'''She sells seashells on the seashore of Seychelles.\n",
    "The shells she sells are seashells, I'm sure.\n",
    "For if she sells seashells on the seashore,\n",
    "Then I'm sure she sells seashore shells.'''*\n",
    "\n",
    "\n",
    "**Пример ответа:** 2"
   ]
  },
  {
   "cell_type": "code",
   "execution_count": 9,
   "metadata": {
    "collapsed": false
   },
   "outputs": [
    {
     "name": "stdout",
     "output_type": "stream",
     "text": [
      "S: 27 E: 32\n"
     ]
    }
   ],
   "source": [
    "\n",
    "c = 0\n",
    "i = 0\n",
    "for s in ss:\n",
    "    if s == u's': \n",
    "        c += 1\n",
    "    elif s == u'e':\n",
    "        i += 1 \n",
    "print u'S:', c, u'E:', i\n"
   ]
  },
  {
   "cell_type": "markdown",
   "metadata": {},
   "source": [
    "### Задание 4\n",
    "\n",
    "Подсчитать сколько раз встречается буква \"ш\" в скороговорке ss и вывести результат на экран. \n",
    "\n",
    "Скороговорка ss = *'Шли сорок мышей и шесть нашли грошей, а мыши, что поплоше, нашли по два гроша'*\n",
    "\n",
    "**Пример ответа:** 2"
   ]
  },
  {
   "cell_type": "code",
   "execution_count": 3,
   "metadata": {
    "collapsed": false
   },
   "outputs": [
    {
     "name": "stdout",
     "output_type": "stream",
     "text": [
      "Ш: 8 Ы: 2\n"
     ]
    }
   ],
   "source": [
    "# Подсчитать сколько раз встречается буква \"ш\" в скороговорке и вывести результат на экран:\n",
    "\n",
    "# 'Шли сорок мышей и шесть нашли грошей, а мыши, что поплоше, нашли по два гроша'\n",
    "\n",
    "ss = u'Шли сорок мышей и шесть нашли грошей, а мыши, что поплоше, нашли по два гроша'\n",
    "\n",
    "c = 0\n",
    "i = 0\n",
    "for s in ss:\n",
    "    if s == u'ш': \n",
    "        c += 1\n",
    "    elif s == u'ы':\n",
    "        i += 1 \n",
    "print u'Ш:', c, u'Ы:', i\n"
   ]
  },
  {
   "cell_type": "markdown",
   "metadata": {},
   "source": [
    "### Задание 5\n",
    "\n",
    "Вывести в строчку положительные значения списка длины n, состоящего из целых псевдослучайных чисел, лежащих в интервале [-m, m), где m - целое число.\n",
    "\n",
    "**Пример ответа:** 3 4 1 7 4 1 9 3"
   ]
  },
  {
   "cell_type": "code",
   "execution_count": 12,
   "metadata": {
    "collapsed": false
   },
   "outputs": [
    {
     "name": "stdout",
     "output_type": "stream",
     "text": [
      "3 4 1 7 4 1 9 3\n"
     ]
    }
   ],
   "source": [
    "# Вывести в строчку положительные значения из псевдослучайной выборки целых чисел длины n, с областью изменения [-m, m).\n",
    "\n",
    "import random\n",
    "n = 13\n",
    "m = 10\n",
    "#y = []\n",
    "#z = [random.random() for i in range(n)]\n",
    "for i in range(n):\n",
    "    x = int(random.random()*2*m - m)\n",
    "#    y.append(x)\n",
    "    if x > 0: \n",
    "        print x,"
   ]
  },
  {
   "cell_type": "code",
   "execution_count": null,
   "metadata": {
    "collapsed": true
   },
   "outputs": [],
   "source": [
    "'''\n",
    "Найти максимум/минимум из случайно сгенерированной последовательности (список) длины n и\n",
    "переставить его с предпоследним элементом. Если экстремум и есть предпоследний элемент, то \n",
    "переставить первый и последний элементы).\n",
    "''' \n",
    "\n",
    "import random\n",
    "n = 10\n",
    "y = []\n",
    "\n",
    "y = [random.random() for i in range(n)]\n",
    "#y = range(n)\n",
    "#y[-2] = 99\n",
    "\n",
    "print 'Before:', y\n",
    "extr = -9999.   # 9999\n",
    "ii = 0\n",
    "for i, e in enumerate(y):\n",
    "#    if e <= extr:   # min\n",
    "    if e >= extr:   # max\n",
    "        extr = e\n",
    "        ii = i\n",
    "#print y\n",
    "print 'Extr: ', extr, ' Index:', ii \n",
    "#print y[-1], y[ii], y[-1] is y[ii] \n",
    "if ii == len(y)-2:\n",
    "    t = y[0]\n",
    "    y[0] = y[-1]\n",
    "    y[-1] = t\n",
    "else:\n",
    "    y[ii] = y[-2]\n",
    "    y[-2] = extr\n",
    "\n",
    "print 'After: ', y"
   ]
  }
 ],
 "metadata": {
  "kernelspec": {
   "display_name": "Python 2",
   "language": "python",
   "name": "python2"
  },
  "language_info": {
   "codemirror_mode": {
    "name": "ipython",
    "version": 2
   },
   "file_extension": ".py",
   "mimetype": "text/x-python",
   "name": "python",
   "nbconvert_exporter": "python",
   "pygments_lexer": "ipython2",
   "version": "2.7.11"
  }
 },
 "nbformat": 4,
 "nbformat_minor": 0
}
