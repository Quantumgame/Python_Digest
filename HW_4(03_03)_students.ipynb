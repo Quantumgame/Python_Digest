{
 "cells": [
  {
   "cell_type": "markdown",
   "metadata": {
    "collapsed": true
   },
   "source": [
    "# Домашнее задание IV\n",
    "\n",
    "**Составил:** Шабанова П.А. в рамках курса [Python дайджест](https://github.com/whitehorn/Python_Digest)\n",
    "\n",
    "**E-mail:** pa.shabanov@gmail.com\n",
    "\n",
    "**URL:** [Заметки по программированию в науках о Земле](http://progeoru.blogspot.ru/)\n",
    "\n",
    "### Подсказки\n",
    "\n",
    "Учебник Н.А. Прохорёнок **\"Python Самое необходимое\"**.\n",
    "\n",
    "+ Функция *enumerate()* - с. 50;\n",
    "\n",
    "+ Модуль random - с. 59-61;\n",
    "\n",
    "+ Списки - c. 115-135."
   ]
  },
  {
   "cell_type": "code",
   "execution_count": 1,
   "metadata": {
    "collapsed": false
   },
   "outputs": [],
   "source": [
    "# Получение списка z случайно расположенных целых чисел\n",
    "\n",
    "import random\n",
    "\n",
    "n = 10\n",
    "z = range(n)\n",
    "random.shuffle(z)"
   ]
  },
  {
   "cell_type": "code",
   "execution_count": 2,
   "metadata": {
    "collapsed": false
   },
   "outputs": [
    {
     "name": "stdout",
     "output_type": "stream",
     "text": [
      "[9, -10, -6, -8, 6, -8, -10, 8, -8, -5, -5, 3, 9, -8, -6, 6, -1, -6, 3, -5, -3, -7, 5, -4, 3, -9, 7, 5, 7, 1, 10, 4, 1, -7, 7, 6, 4, -7, 2, -4, -6, 3, 9, 4, 8, 2, 1, 6, -1, 8]\n"
     ]
    }
   ],
   "source": [
    "# Получение списка z случайных целых чисел длины n (могут быть повторы)\n",
    "\n",
    "import random\n",
    "\n",
    "n = 50\n",
    "a = -10\n",
    "b = 10\n",
    "z = [random.randint(a, b) for i in range(n)]   # генератор списка\n",
    "\n",
    "# Генератор списка аналогичен такому коду\n",
    "z = []\n",
    "for i in range(n):\n",
    "    z.append(random.randint(a, b))\n",
    "    \n",
    "print z\n",
    "\n",
    "''' P.S. область изменения функции randint(a, b) должна быть заметно меньше, чем длина n. \n",
    "Иначе велика вероятность получить список из уникальных значений.\n",
    "''';"
   ]
  },
  {
   "cell_type": "code",
   "execution_count": 3,
   "metadata": {
    "collapsed": false
   },
   "outputs": [
    {
     "name": "stdout",
     "output_type": "stream",
     "text": [
      "[0, 1, 2, 3, 4, 5, 6, 7, 8, 9, 10, 11, 12, 13, 14, 15, 16]\n"
     ]
    }
   ],
   "source": [
    "# Обмен значений списка (перестановка - swap)\n",
    "\n",
    "a = range(17)\n",
    "print a\n",
    "a[0], a[-1] = a[-1], a[0]   # первый способ\n",
    "\n",
    "# второй способ\n",
    "t = a[0]\n",
    "a[0] = a[-1]\n",
    "a[-1] = t"
   ]
  },
  {
   "cell_type": "markdown",
   "metadata": {},
   "source": [
    "### Задание\n",
    "\n",
    "Дан список длины N, состоящий из случайных целых чисел. Убрать из исходного списка все повторяющиеся элементы (обеспечить в списке хотя бы один повтор) и добавить эти повторяющиеся значения, также их индексы в исходном списке, в новый список в виде кортежа (список из кортежей, состоящих из двух значений)."
   ]
  },
  {
   "cell_type": "markdown",
   "metadata": {},
   "source": [
    "### Тест\n",
    "\n",
    "Перейти к [Проверочному тесту T1](https://stepic.org/lesson/%D0%9F%D1%80%D0%BE%D0%B2%D0%B5%D1%80%D0%BE%D1%87%D0%BD%D1%8B%D0%B9-%D1%82%D0%B5%D1%81%D1%82-T1-24611/step/1?unit=undefined)"
   ]
  }
 ],
 "metadata": {
  "kernelspec": {
   "display_name": "Python 2",
   "language": "python",
   "name": "python2"
  },
  "language_info": {
   "codemirror_mode": {
    "name": "ipython",
    "version": 2
   },
   "file_extension": ".py",
   "mimetype": "text/x-python",
   "name": "python",
   "nbconvert_exporter": "python",
   "pygments_lexer": "ipython2",
   "version": "2.7.11"
  }
 },
 "nbformat": 4,
 "nbformat_minor": 0
}
