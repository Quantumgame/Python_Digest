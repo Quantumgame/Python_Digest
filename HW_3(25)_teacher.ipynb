{
 "cells": [
  {
   "cell_type": "markdown",
   "metadata": {
    "collapsed": true
   },
   "source": [
    "# Домашнее задание III\n",
    "\n",
    "**Составил:** Шабанова П.А. в рамках курса [Python дайджест](https://github.com/whitehorn/Python_Digest)\n",
    "\n",
    "**E-mail:** pa.shabanov@gmail.com\n",
    "\n",
    "**URL:** [Заметки по программированию в науках о Земле](http://progeoru.blogspot.ru/)\n",
    "\n",
    "### Подсказки\n",
    "\n",
    "Учебник Н.А. Прохорёнок **\"Python Самое необходимое\"**.\n",
    "\n",
    "+ Функция *enumerate()* - с. 50;\n",
    "\n",
    "+ Модуль random - с. 59-61;\n",
    "\n",
    "+ Списки - c. 115-135."
   ]
  },
  {
   "cell_type": "code",
   "execution_count": 1,
   "metadata": {
    "collapsed": false
   },
   "outputs": [],
   "source": [
    "# Получение списка z случайно расположенных целых чисел\n",
    "\n",
    "import random\n",
    "\n",
    "n = 10\n",
    "z = range(n)\n",
    "random.shuffle(z)"
   ]
  },
  {
   "cell_type": "code",
   "execution_count": 2,
   "metadata": {
    "collapsed": false
   },
   "outputs": [
    {
     "name": "stdout",
     "output_type": "stream",
     "text": [
      "[9, -10, -6, -8, 6, -8, -10, 8, -8, -5, -5, 3, 9, -8, -6, 6, -1, -6, 3, -5, -3, -7, 5, -4, 3, -9, 7, 5, 7, 1, 10, 4, 1, -7, 7, 6, 4, -7, 2, -4, -6, 3, 9, 4, 8, 2, 1, 6, -1, 8]\n"
     ]
    }
   ],
   "source": [
    "# Получение списка z случайных целых чисел длины n (могут быть повторы)\n",
    "\n",
    "import random\n",
    "\n",
    "n = 50\n",
    "a = -10\n",
    "b = 10\n",
    "z = [random.randint(a, b) for i in range(n)]   # генератор списка\n",
    "\n",
    "# Генератор списка аналогичен такому коду\n",
    "z = []\n",
    "for i in range(n):\n",
    "    z.append(random.randint(a, b))\n",
    "    \n",
    "print z\n",
    "\n",
    "''' P.S. область изменения функции randint(a, b) должна быть заметно меньше, чем длина n. \n",
    "Иначе велика вероятность получить список из уникальных значений.\n",
    "''';"
   ]
  },
  {
   "cell_type": "code",
   "execution_count": 3,
   "metadata": {
    "collapsed": false
   },
   "outputs": [
    {
     "name": "stdout",
     "output_type": "stream",
     "text": [
      "[0, 1, 2, 3, 4, 5, 6, 7, 8, 9, 10, 11, 12, 13, 14, 15, 16]\n"
     ]
    }
   ],
   "source": [
    "# Обмен значений списка (перестановка - swap)\n",
    "\n",
    "a = range(17)\n",
    "print a\n",
    "a[0], a[-1] = a[-1], a[0]   # первый способ\n",
    "\n",
    "# второй способ\n",
    "t = a[0]\n",
    "a[0] = a[-1]\n",
    "a[-1] = t"
   ]
  },
  {
   "cell_type": "markdown",
   "metadata": {},
   "source": [
    "### Задание 1\n",
    "\n",
    "Дано два списка - время(t) и измерения(y). Список t состоит из целых чисел, а список y - из действительных. \n",
    "Также задан словарь из пар \"ключ-значение\", где ключи заданы целыми числами, а значения - действительными.\n",
    "Необходимо добавить ключи словаря в список t, а соответствующие им значения словаря - на соответствующие позиции в список y. При совпадении ключа и элемента из списка t - заменить значение в списке y на значение из словаря.\n",
    "\n",
    "[Для примера см. Листинг 7 раздаточных материалов от 25.02.2016 или ниже]"
   ]
  },
  {
   "cell_type": "code",
   "execution_count": 9,
   "metadata": {
    "collapsed": false
   },
   "outputs": [
    {
     "name": "stdout",
     "output_type": "stream",
     "text": [
      "Origin Y: [0.31626850977937804, 0.15313573085423027, 0.4447766159427998, 0.722624725130415, 0.7293714816925417]\n",
      "Origin T: [1970, 1980, 1990, 2000, 2010]\n",
      "out of limits < 1969\n",
      "replace first: 1970\n",
      "insert: 1 1972\n",
      "insert: 4 1996\n",
      "Result t: [1969, 1970, 1972, 1980, 1990, 1996, 2000, 2010]\n",
      "Result y: [1, 2, 3, 0.15313573085423027, 0.4447766159427998, -1, 0.722624725130415, 0.7293714816925417]\n"
     ]
    }
   ],
   "source": [
    "'''\n",
    "Неполный пример (не учитывает случаи совпадения ключей и значений списка t,\n",
    "а также выход за границы)\n",
    "'''\n",
    "\n",
    "import random\n",
    "\n",
    "t = range(1970, 2020, 10)\n",
    "y = [random.random() for i in range(len(t))]\n",
    "\n",
    "print 'Origin Y:', y\n",
    "print 'Origin T:', t\n",
    "\n",
    "dates = {1969: 1, 1970: 2, 1972: 3, 1996: -1}\n",
    "\n",
    "for key in dates:\n",
    "    val = dates[key]\n",
    "    for i in range(len(t) - 1):\n",
    "#        print t[0], t[-1], key\n",
    "#        print i, t[i], key, t[i+1]\n",
    "        if t[i] < key < t[i+1]:           \n",
    "            print 'insert:', i, key\n",
    "            t.insert(i+1, key)\n",
    "            y.insert(i+1, val)\n",
    "            break\n",
    "        elif key == t[i]:\n",
    "            print 'replace first:', key\n",
    "            y[i] = val\n",
    "            break\n",
    "        elif key == t[-1]:\n",
    "            print 'replace last:', key\n",
    "            y[-1] = val\n",
    "            break\n",
    "\n",
    "    if key < t[0]:\n",
    "        print 'out of limits <', key\n",
    "        t.insert(0, key)\n",
    "        y.insert(0, val)\n",
    "\n",
    "    if key > t[-1]:\n",
    "        print 'out of limits >', key           \n",
    "        t.append(key)\n",
    "        y.append(val)\n",
    "        \n",
    "print 'Result t:', t\n",
    "print 'Result y:', y   "
   ]
  },
  {
   "cell_type": "markdown",
   "metadata": {},
   "source": [
    "### Задание 2\n",
    "\n",
    "Отсортировать элементы списка A длины N, каждый элемент которого является списком случайных целых чисел (длины M), по возрастанию сумм элементов вложенных списков (имеющих длину M).\n",
    "\n",
    "**Пример ответа (N=7, M=5):**\n",
    "\n",
    "**ДО**\n",
    "\n",
    " 4  1  6  0  6  2  0\n",
    "\n",
    " 1  5  4  0  0  3  6\n",
    "\n",
    " 7  9  7  7  0  0  2\n",
    "\n",
    " 7  0  9  9  4  2  0\n",
    "\n",
    " 4  8  0  0  8  6  6\n",
    "\n",
    "Суммы\n",
    "\n",
    "23 23 26 16 18 13 14\n",
    "\n",
    "**ПОСЛЕ**\n",
    "\n",
    "2  0  0  6  4  1  6\n",
    "\n",
    "3  6  0  0  1  5  4\n",
    "\n",
    "0  2  7  0  7  9  7\n",
    "\n",
    "2  0  9  4  7  0  9\n",
    "\n",
    "6  6  0  8  4  8  0\n",
    "\n",
    "Суммы\n",
    "\n",
    "13 14 16 18 23 23 26\n"
   ]
  },
  {
   "cell_type": "code",
   "execution_count": 26,
   "metadata": {
    "collapsed": false
   },
   "outputs": [
    {
     "name": "stdout",
     "output_type": "stream",
     "text": [
      "Origin z\n",
      "[10, 7, 7, 17, 8, 18, 12]\n",
      "[4, 2, 12, 8, 17, 12, 3]\n",
      "[2, 18, 2, 19, 6, 17, 0]\n",
      "[6, 5, 19, 2, 2, 4, 19]\n",
      "[13, 17, 6, 3, 6, 13, 7]\n",
      "[17, 14, 12, 15, 12, 0, 20]\n",
      "[6, 0, 5, 15, 20, 9, 10]\n",
      "[3, 6, 6, 2, 12, 5, 8]\n",
      "[1, 5, 5, 10, 18, 1, 9]\n",
      "[15, 13, 17, 15, 19, 8, 6]\n",
      "\n",
      " g1: [79, 58, 64, 57, 65, 90, 65, 42, 49, 93]\n",
      "g2: [42, 49, 57, 58, 64, 65, 65, 79, 90, 93] \n",
      "\n",
      "[3, 6, 6, 2, 12, 5, 8]\n",
      "[1, 5, 5, 10, 18, 1, 9]\n",
      "[6, 5, 19, 2, 2, 4, 19]\n",
      "[4, 2, 12, 8, 17, 12, 3]\n",
      "[2, 18, 2, 19, 6, 17, 0]\n",
      "[6, 0, 5, 15, 20, 9, 10]\n",
      "[6, 0, 5, 15, 20, 9, 10]\n",
      "[10, 7, 7, 17, 8, 18, 12]\n",
      "[17, 14, 12, 15, 12, 0, 20]\n",
      "[15, 13, 17, 15, 19, 8, 6]\n"
     ]
    }
   ],
   "source": [
    "import random\n",
    "\n",
    "N = 10\n",
    "M = 7\n",
    "\n",
    "#setup\n",
    "z = []\n",
    "for i in range(N):\n",
    "    a = [random.randint(0, 20) for i in range(M)]\n",
    "    z.append(a)\n",
    "print 'Origin z'\n",
    "for i in z:\n",
    "    print i\n",
    "    \n",
    "g = map(sum, z)\n",
    "print '\\n g1:', g\n",
    "\n",
    "dic = {}\n",
    "for i, j in enumerate(g):\n",
    "    dic[j] = i\n",
    "\n",
    "g.sort()\n",
    "print 'g2:', g,'\\n'\n",
    "\n",
    "z1 = z[:]\n",
    "for i, val in enumerate(g):\n",
    "    j = dic[val]\n",
    "    z1[i] = z[j]\n",
    "\n",
    "for i in z1:\n",
    "    print i"
   ]
  },
  {
   "cell_type": "markdown",
   "metadata": {},
   "source": [
    "### Задание 3\n",
    "\n",
    "Дан список длины N, состоящий из случайных целых чисел. Убрать из исходного списка все повторяющиеся элементы (обеспечить в списке хотя бы один повтор) и добавить эти повторяющиеся значения, также их индексы в исходном списке, в новый список в виде кортежа (список из кортежей, состоящих из двух значений)."
   ]
  },
  {
   "cell_type": "markdown",
   "metadata": {},
   "source": [
    "### Задание 4\n",
    "\n",
    "Дан список длины N, состоящий из случайно расположенных целых чисел. Найти позицию (индекс) третьего наименьшего значения и вывести на экран часть исходного списка:\n",
    "\n",
    "a) от найденной позиции и до конца списка;\n",
    "\n",
    "б) от начал списка до найденной позиции (включая значение индекса);\n",
    "\n",
    "в) от соседа слева до соседа справа от найденного индекса."
   ]
  },
  {
   "cell_type": "code",
   "execution_count": 34,
   "metadata": {
    "collapsed": false
   },
   "outputs": [
    {
     "name": "stdout",
     "output_type": "stream",
     "text": [
      "[13, 3, 5, 12, 1, 11, 10, 7, 8, 4, 0, 9, 14, 6, 2]\n",
      "0 0\n",
      "1 1\n",
      "2 2\n",
      "vmin 2\n",
      "i= 14\n",
      "а) [2]\n",
      "б) [13, 3, 5, 12, 1, 11, 10, 7, 8, 4, 0, 9, 14, 6]\n",
      "в) [6, 2]\n"
     ]
    }
   ],
   "source": [
    "import random\n",
    "\n",
    "n = 15\n",
    "z = range(n)\n",
    "random.shuffle(z)\n",
    "\n",
    "print z\n",
    "\n",
    "a = z[]\n",
    "for i in range(3):\n",
    "    vmin = min(a)\n",
    "    print i, vmin\n",
    "    if i == 2:\n",
    "        print 'vmin', vmin\n",
    "        break\n",
    "    a.remove(vmin)\n",
    "\n",
    "i = z.index(vmin)\n",
    "print 'i=', i\n",
    "print u'а)', z[i:]\n",
    "if(i != len(z)-1):\n",
    "    print u'б)', z[:i+1]\n",
    "else:\n",
    "    print u'б)', z[:i]\n",
    "    \n",
    "#if (i-1 < 0 and i+1 >= len(z)):\n",
    "#    print u'в)', z[i]\n",
    "#else:\n",
    "print u'в)', z[i-1: i+2]"
   ]
  },
  {
   "cell_type": "markdown",
   "metadata": {},
   "source": [
    "### Задание 5\n",
    "\n",
    "Отсортировать список длины N, состоящий из случайно расположенных целых чисел, методом \"пузырька\" (bubble sort).\n",
    "\n",
    "**Описание алгоритма:** для каждой пары индексов списка производится обмен, если элементы расположены не по порядку. На каждой итерации один из элементов \"всплывает\" наверх и больше не рассматривается."
   ]
  },
  {
   "cell_type": "code",
   "execution_count": 32,
   "metadata": {
    "collapsed": false
   },
   "outputs": [
    {
     "name": "stdout",
     "output_type": "stream",
     "text": [
      "Before [3, 5, 8, 1, 0, 7, 4, 2, 6, 9]\n",
      "i= 7 7 0 h 1\n",
      "7 1 h 2\n",
      "7 2 h 3\n",
      "7 3 h 4\n",
      "7 4 h 5\n",
      "7 5 h 6\n",
      "7 6 h 7\n",
      "\n",
      "i= 6 6 0 h 1\n",
      "6 1 h 2\n",
      "6 2 h 3\n",
      "6 3 h 4\n",
      "6 4 h 5\n",
      "6 5 h 6\n",
      "\n",
      "i= 5 5 0 h 1\n",
      "5 1 h 2\n",
      "5 2 h 3\n",
      "5 3 h 4\n",
      "5 4 h 5\n",
      "\n",
      "i= 4 4 0 h 1\n",
      "4 1 h 2\n",
      "4 2 h 3\n",
      "4 3 h 4\n",
      "\n",
      "i= 3 3 0 h 1\n",
      "3 1 h 2\n",
      "3 2 h 3\n",
      "\n",
      "i= 2 2 0 h 1\n",
      "2 1 h 2\n",
      "\n",
      "i= 1 1 0 h 1\n",
      "\n",
      "i= 0 \n",
      "After [0, 2, 4, 5, 6, 7, 8, 9] 11\n"
     ]
    }
   ],
   "source": [
    "'''\n",
    "Сортировка пузырьком (англ. Bubble sort) — для каждой пары индексов производится обмен, \n",
    "если элементы расположены не по порядку. Сложность алгоритма: O(n^2).\n",
    "\n",
    "Описание алгоритма:\n",
    "\n",
    "1) последовательно сравниваем пары соседних элементов;\n",
    "2) если они расположены не по порядку - переставляем их;\n",
    "3) проходим так всю выборку пока все элеметы не будут упорядочены\n",
    "   (за один прогон в случае сортировки по возрастанию максимальное \n",
    "   значение \"всплывает\" вверх).\n",
    "'''\n",
    "import random\n",
    "\n",
    "n = 10\n",
    "z = range(n)\n",
    "random.shuffle(z)\n",
    "print 'Before', z\n",
    "\n",
    "z = [5, 2, 7, 4, 0, 9, 8, 6] \n",
    "\n",
    "c = 0\n",
    "zi = range(len(z))\n",
    "for i in reversed(zi): \n",
    "    print 'i=', i,\n",
    "    for j in range(i):\n",
    "#        print j,\n",
    "        print i, j, 'h', j + 1\n",
    "        if z[j] > z[j+1]: # по возрастанию\n",
    "            c += 1    \n",
    "            z[j], z[j+1] = z[j+1], z[j]\n",
    "    print ''\n",
    "print 'After', z, c"
   ]
  },
  {
   "cell_type": "code",
   "execution_count": null,
   "metadata": {
    "collapsed": true
   },
   "outputs": [],
   "source": []
  }
 ],
 "metadata": {
  "kernelspec": {
   "display_name": "Python 2",
   "language": "python",
   "name": "python2"
  },
  "language_info": {
   "codemirror_mode": {
    "name": "ipython",
    "version": 2
   },
   "file_extension": ".py",
   "mimetype": "text/x-python",
   "name": "python",
   "nbconvert_exporter": "python",
   "pygments_lexer": "ipython2",
   "version": "2.7.11"
  }
 },
 "nbformat": 4,
 "nbformat_minor": 0
}
