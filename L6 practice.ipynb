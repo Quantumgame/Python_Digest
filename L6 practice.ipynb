{
 "cells": [
  {
   "cell_type": "markdown",
   "metadata": {},
   "source": [
    "## Примеры к занятию N6 17.03.2016"
   ]
  },
  {
   "cell_type": "markdown",
   "metadata": {},
   "source": [
    "![caption](files/pics/anatomyarrayrus.png \"Рисунок 1 Шпаргалка по массивам в numpy\")"
   ]
  },
  {
   "cell_type": "code",
   "execution_count": 16,
   "metadata": {
    "collapsed": false
   },
   "outputs": [
    {
     "name": "stdout",
     "output_type": "stream",
     "text": [
      "A <type 'numpy.ndarray'> (30L,) [ 0  1  2  3  4  5  6  7  8  9 10 11 12 13 14 15 16 17 18 19 20 21 22 23 24\n",
      " 25 26 27 28 29]\n",
      "B <type 'numpy.ndarray'> (3L, 10L) [[ 0  1  2  3  4  5  6  7  8  9]\n",
      " [10 11 12 13 14 15 16 17 18 19]\n",
      " [20 21 22 23 24 25 26 27 28 29]]\n",
      "C <type 'numpy.ndarray'> (10L, 3L) [[ 0  1  2]\n",
      " [ 3  4  5]\n",
      " [ 6  7  8]\n",
      " [ 9 10 11]\n",
      " [12 13 14]\n",
      " [15 16 17]\n",
      " [18 19 20]\n",
      " [21 22 23]\n",
      " [24 25 26]\n",
      " [27 28 29]]\n",
      "Array A -> axis 0: 30\n",
      "Array B -> axis 0: 3\n",
      "Array B -> axis 1: 10\n"
     ]
    }
   ],
   "source": [
    "# ЛИСТИНГ 1 Numpy\n",
    "\n",
    "import numpy as np\n",
    "\n",
    "shape1 = 30\n",
    "a = np.arange(shape1)\n",
    "print 'A', type(a), np.shape(a), a\n",
    "\n",
    "# Изменение формы\n",
    "shape2 = (3, 10)\n",
    "b = a.reshape(shape2)\n",
    "print 'B', type(b), np.shape(b), b\n",
    "\n",
    "c = np.reshape(a, shape2[::-1])\n",
    "print 'C', type(c), np.shape(c), c\n",
    "# Анализ формы - рассмотрим оси или измерения\n",
    "\n",
    "# Одномерный массив или вектор A\n",
    "for i, v in enumerate(a.shape):\n",
    "    print 'Array A -> axis %d: %d' % (i, v)\n",
    "    \n",
    "# Двумерный массив или матрица B\n",
    "for i, v in enumerate(b.shape):\n",
    "    print 'Array B -> axis %d: %d' % (i, v)\n",
    "    "
   ]
  },
  {
   "cell_type": "code",
   "execution_count": 38,
   "metadata": {
    "collapsed": false
   },
   "outputs": [
    {
     "name": "stdout",
     "output_type": "stream",
     "text": [
      "A (4L, 3L, 2L)\n",
      "(4L, 3L, 2L) - (3L, 2L) - (2L,)\n",
      "(4L, 3L, 2L) - (3L, 2L) - (2L,)\n",
      "(4L, 3L, 2L) - (3L, 2L) - (2L,)\n",
      "(4L, 3L, 2L) - (3L, 2L) - (2L,)\n",
      "(4L, 3L, 2L) - (3L, 2L) - (2L,)\n",
      "(4L, 3L, 2L) - (3L, 2L) - (2L,)\n",
      "(4L, 3L, 2L) - (3L, 2L) - (2L,)\n",
      "(4L, 3L, 2L) - (3L, 2L) - (2L,)\n",
      "(4L, 3L, 2L) - (3L, 2L) - (2L,)\n",
      "(4L, 3L, 2L) - (3L, 2L) - (2L,)\n",
      "(4L, 3L, 2L) - (3L, 2L) - (2L,)\n",
      "(4L, 3L, 2L) - (3L, 2L) - (2L,)\n",
      "A [[[ 0  1]\n",
      "  [ 2  3]\n",
      "  [ 4  5]]\n",
      "\n",
      " [[ 6  7]\n",
      "  [ 8  9]\n",
      "  [10 11]]\n",
      "\n",
      " [[12 13]\n",
      "  [14 15]\n",
      "  [16 17]]\n",
      "\n",
      " [[18 19]\n",
      "  [20 21]\n",
      "  [22 23]]]\n",
      "B [[ 0  1  2  3  4  5  6  7  8  9 10 11]\n",
      " [12 13 14 15 16 17 18 19 20 21 22 23]]\n",
      "C [ 0  1  2  3  4  5  6  7  8  9 10 11 12 13 14 15 16 17 18 19 20 21 22 23]\n"
     ]
    }
   ],
   "source": [
    "# ЛИСТИНГ 2 Более сложные примеры reshape\n",
    "\n",
    "import numpy as np\n",
    "\n",
    "N = 24\n",
    "shape1 = (4, 3, 2)\n",
    "a = np.arange(N).reshape(shape1)\n",
    "\n",
    "print 'A', a.shape\n",
    "\n",
    "for i in a:\n",
    "    for j in i:\n",
    "        print '%s - %s - %s' % (a.shape, i.shape, j.shape,)\n",
    "\n",
    "print 'A', a\n",
    "        \n",
    "shape2 = (2, 12)\n",
    "b = a.reshape(shape2)\n",
    "print 'B', b\n",
    "\n",
    "# \"Выравнивание\" N-мерного массива в одномерный\n",
    "c = a.flatten()\n",
    "print 'C', c"
   ]
  },
  {
   "cell_type": "code",
   "execution_count": 7,
   "metadata": {
    "collapsed": false
   },
   "outputs": [
    {
     "name": "stdout",
     "output_type": "stream",
     "text": [
      "linspace()\n",
      "X1:  [ 0.          0.20408163  0.40816327  0.6122449   0.81632653]\n",
      "X2:  [ 1.   1.2  1.4  1.6  1.8  2.   2.2  2.4  2.6  2.8]\n",
      "arange()\n",
      "X1:  [ 0.  1.  2.  3.  4.]\n",
      "X2:  [  3.    5.7   8.4  11.1  13.8  16.5  19.2  21.9  24.6  27.3]\n",
      "random.random()\n",
      "X1:  [ 0.20899928  0.89055935  0.62855137  0.61145394  0.5061542 ]\n",
      "X2:  [ 0.07635859  0.15446729  0.68634205  0.80197473  0.70138603]\n",
      "zeros()\n",
      "X1:  [0 0 0 0 0]\n",
      "X2:  [ 0.  0.  0.  0.  0.]\n",
      "ones()\n",
      "X1:  [ 1.  1.  1.  1.  1.]\n",
      "X2:  [1 1 1 1 1]\n"
     ]
    }
   ],
   "source": [
    "# ЛИСТИНГ 3 Некоторые функции numpy для создания массивов\n",
    "\n",
    "import numpy as np\n",
    "\n",
    "# linspace()\n",
    "print 'linspace()'\n",
    "x1 = np.linspace(0, 10, 50)\n",
    "x2 = np.linspace(0, 10, 50, endpoint=False)\n",
    "\n",
    "print 'X1: ', x1[0:5]\n",
    "print 'X2: ', x2[5:15]\n",
    "\n",
    "# arange()\n",
    "print 'arange()'\n",
    "x1 = np.arange(50, dtype='float')\n",
    "x2 = np.arange(-10.5, 30.75, 2.7)\n",
    "\n",
    "print 'X1: ', x1[0:5]\n",
    "print 'X2: ', x2[5:15]\n",
    "\n",
    "# random.random()\n",
    "print 'random.random()'\n",
    "x1 = np.random.random(50)\n",
    "x2 = np.random.random((10, 24))\n",
    "\n",
    "print 'X1: ', x1[0:5]\n",
    "print 'X2: ', x2[5:15, 5]\n",
    "\n",
    "# zeros()\n",
    "print 'zeros()'\n",
    "x1 = np.zeros(50, dtype=int)\n",
    "x2 = np.zeros((10, 24))\n",
    "\n",
    "print 'X1: ', x1[0:5]\n",
    "print 'X2: ', x2[5:15, 5]\n",
    "\n",
    "# ones()\n",
    "print 'ones()'\n",
    "x1 = np.ones(50)\n",
    "x2 = np.ones((10, 24), dtype=int)\n",
    "\n",
    "print 'X1: ', x1[0:5]\n",
    "print 'X2: ', x2[5:15, 5]"
   ]
  },
  {
   "cell_type": "code",
   "execution_count": 18,
   "metadata": {
    "collapsed": false
   },
   "outputs": [
    {
     "name": "stdout",
     "output_type": "stream",
     "text": [
      "X: [0 1 2 3 4]\n",
      "Y: [-13.6  -9.1  -4.6  -0.1   4.4]\n",
      "ii: [0, 2, 4, 6, 8]\n",
      "Y[ii] [-13.6  -4.6   4.4  13.4  22.4]\n",
      "Z[ii] От списка Z[ii] вектор-индекс взять нельзя!\n",
      "O.K.\n",
      "2 (2L, 5L)\n",
      "XY [[ 0.32505714  0.84804555  0.67486799  0.53792313  0.62752782]\n",
      " [ 0.01439775  0.748697    0.3102447   0.46884149  0.82296861]]\n"
     ]
    }
   ],
   "source": [
    "# ЛИСТИНГ 4 Операции и срезы в массивах\n",
    "\n",
    "import numpy as np\n",
    "\n",
    "n = 15\n",
    "x = np.arange(n)\n",
    "y = 4.5*x - 13.6   # тоже массив\n",
    "z = range(n)   # список\n",
    "\n",
    "print 'X:', x[0:5]\n",
    "print 'Y:', y[0:5]\n",
    "\n",
    "ii = range(0, 10, 2)\n",
    "print 'ii:', ii\n",
    "print 'Y[ii]', y[ii]\n",
    "\n",
    "# ***** ЭТО обработчик исключений *****\n",
    "try:\n",
    "    print 'Z[ii]', z[ii]\n",
    "except:\n",
    "    print u'От списка Z[ii] вектор-индекс взять нельзя!'\n",
    "finally:\n",
    "    print 'O.K.'\n",
    "# ***** КОНЕЦ обработчика исключений *****\n",
    "\n",
    "# Срез и вектор-индекс от двумерного массива\n",
    "shape = (5, 13)\n",
    "xy = np.random.random(shape)\n",
    "print xy[2:4, ii].ndim, xy[2:4, ii].shape\n",
    "print 'XY', xy[2:4, ii]"
   ]
  },
  {
   "cell_type": "code",
   "execution_count": 6,
   "metadata": {
    "collapsed": false
   },
   "outputs": [
    {
     "name": "stdout",
     "output_type": "stream",
     "text": [
      "Sasha\n",
      "Sasha\n"
     ]
    }
   ],
   "source": [
    "# ЛИСТИНГ 5\n",
    "\n",
    "s = 'Sasha'\n",
    "\n",
    "def printer(s):\n",
    "    print '%s' % s\n",
    "    \n",
    "printer(s)\n",
    "\n",
    "# Функции класса называются методами\n",
    "\n",
    "class MED():\n",
    "    def __init__(self, s):\n",
    "        self.printer2(s)\n",
    "    def printer2(self, s):\n",
    "        print s\n",
    "        \n",
    "med = MED(s)"
   ]
  },
  {
   "cell_type": "code",
   "execution_count": 8,
   "metadata": {
    "collapsed": false
   },
   "outputs": [
    {
     "name": "stdout",
     "output_type": "stream",
     "text": [
      "<type 'int'> 16\n",
      "<type 'tuple'> (16, -16)\n",
      "<type 'int'> 16\n",
      "<type 'int'> -16\n"
     ]
    }
   ],
   "source": [
    "# ЛИСТИНГ 6 return\n",
    "\n",
    "def powerxy1(x, y):\n",
    "    return x**y\n",
    "\n",
    "def powerxy2(x, y):\n",
    "    z = x**y\n",
    "    zm = -x**y\n",
    "    return z, zm\n",
    "    \n",
    "x = 2\n",
    "y = 4\n",
    "\n",
    "f1 = powerxy1(x, y)\n",
    "print type(f1), f1\n",
    "\n",
    "f2 = powerxy2(x, y)\n",
    "print type(f2), f2\n",
    "\n",
    "x1, y1 = powerxy2(x, y)\n",
    "print type(x1), x1\n",
    "print type(y1), y1"
   ]
  },
  {
   "cell_type": "code",
   "execution_count": null,
   "metadata": {
    "collapsed": false
   },
   "outputs": [],
   "source": [
    "# ЛИСТИНГ 7 Работа с типами данных в функциях\n",
    "\n",
    "import math\n",
    "\n",
    "# Неизменяемые типы данных\n",
    "def hypo(a, b):\n",
    "    a = a + 3\n",
    "    b = b - 1\n",
    "    c = math.sqrt(a**2 + b**2)\n",
    "    return c\n",
    "\n",
    "x = 35\n",
    "y = 45\n",
    "\n",
    "print '1 - BEFORE:', x, y\n",
    "hypo(x, y)\n",
    "print '1 - AFTER:', x, y\n",
    "\n",
    "# Изменяемые типы данных\n",
    "def change(a, xa, b, xb):\n",
    "    if xa in a: \n",
    "        i = a.index(xa)\n",
    "        a[i] = -99.\n",
    "        \n",
    "    if xb in b:\n",
    "        b[xb] = '0'\n",
    "\n",
    "x = range(34)\n",
    "xa = 17\n",
    "y = {'one':1, 'two':2, 'three':3}\n",
    "ya = 'two'\n",
    "\n",
    "print '2 - BEFORE:', x[15:20], y\n",
    "change(x, xa, y, ya)\n",
    "print '2 - AFTER:', x[15:20], y\n",
    "\n",
    "# Изменяемые типы данных - массивы\n",
    "\n",
    "import numpy as np\n",
    "\n",
    "def achan(a):\n",
    "    if len(a) > 10: \n",
    "        a[10] = -99\n",
    "    else:\n",
    "        a[0] = a[-1]\n",
    "\n",
    "n = 20\n",
    "a = np.arange(n)\n",
    "\n",
    "print '3 - BEFORE:', a\n",
    "achan(a)\n",
    "print '3 - AFTER:', a"
   ]
  },
  {
   "cell_type": "code",
   "execution_count": 2,
   "metadata": {
    "collapsed": false
   },
   "outputs": [
    {
     "name": "stdout",
     "output_type": "stream",
     "text": [
      "Здравствуйте, дорогой пользователь! Оставьте, пожалуйста, свой номер телефона (7 цифр):1234567\n",
      "Спасибо! Мы обязательно перезвоним вам!\n",
      "[11, 12]\n"
     ]
    }
   ],
   "source": [
    "# ЛИСТИНГ 8 Обязательные и необязательные параметры\n",
    "\n",
    "import math\n",
    "\n",
    "def call_me(ans, name=u'дорогой пользователь'):\n",
    "    '''\n",
    "    нкция округляет все действительные числа до целых\n",
    "    '''\n",
    "    b = [11, 12]\n",
    "    phone = raw_input(u'Здравствуйте, %s! Оставьте, пожалуйста, свой номер телефона (7 цифр):' % name)\n",
    "    ans = False\n",
    "    if not str(phone).isdigit():\n",
    "        print u'Номер должен содержать только цифры!'\n",
    "    else:\n",
    "        if len(phone) < 7:\n",
    "            print u'Номер слишком короткий!'\n",
    "        elif len(phone) > 7:\n",
    "            print u'Номер слишком длинный!'\n",
    "        else:\n",
    "            print u'Спасибо! Мы обязательно перезвоним вам!'\n",
    "            ans = True\n",
    "    return ans, b\n",
    "\n",
    "ans = False\n",
    "myname = u'Павел'\n",
    "while not ans:\n",
    "    ans, c = call_me(ans)\n",
    "#    ans = call_me(ans, myname)\n",
    "print c"
   ]
  },
  {
   "cell_type": "code",
   "execution_count": 4,
   "metadata": {
    "collapsed": false
   },
   "outputs": [
    {
     "name": "stdout",
     "output_type": "stream",
     "text": [
      "27\n",
      "25\n",
      "25\n",
      "39\n"
     ]
    }
   ],
   "source": [
    "# ЛИСТИНГ 9 Типы передачи параметров функции\n",
    "\n",
    "def f_sum(a=2, b=3, c=4): # Все параметры являются необязательными\n",
    "    return a + b + c\n",
    "\n",
    "print f_sum(20) # Позиционное присваивание\n",
    "print f_sum(2, 3, 20) # Позиционное присваивание\n",
    "print f_sum(c=20) # Присваивание по ключу\n",
    "print f_sum(1, b=34) # Присваивание по ключу"
   ]
  },
  {
   "cell_type": "markdown",
   "metadata": {},
   "source": [
    "![caption](files/pics/haver.gif \"Рисунок 2 Формула гаверсинусов\")"
   ]
  },
  {
   "cell_type": "code",
   "execution_count": 6,
   "metadata": {
    "collapsed": false
   },
   "outputs": [
    {
     "name": "stdout",
     "output_type": "stream",
     "text": [
      "От Москвы до Ленинграда 622.71 км\n"
     ]
    }
   ],
   "source": [
    "# ЛИСТИНГ 10 Формула гаверсинусов\n",
    "\n",
    "import math\n",
    "\n",
    "def haversine(origin, destination):\n",
    "    '''\n",
    "    Points are tuples of (latitude, longitude)\n",
    "    '''\n",
    "    lat1, lon1 = origin\n",
    "    lat2, lon2 = destination\n",
    "    radius = 6371. # km\n",
    "\n",
    "    dlat = math.radians(lat2-lat1)\n",
    "    dlon = math.radians(lon2-lon1)\n",
    "    a = math.sin(dlat/2.) * math.sin(dlat/2.) + math.cos(math.radians(lat1)) \\\n",
    "        * math.cos(math.radians(lat2)) * math.sin(dlon/2.) * math.sin(dlon/2.)\n",
    "    c = 2 * math.atan2(math.sqrt(a), math.sqrt(1.-a))\n",
    "    d = radius * c\n",
    "\n",
    "    return d\n",
    "TSK = (56.49, 84.95)   # 56°29′19″ с. ш. 84°57′08″ в. д.\n",
    "MSK = (55.76, 37.61)  # 55°45′21″ с. ш. 37°37′04″ в. д.\n",
    "SPB = (59.95, 30.61) # 59°57′00″ с. ш. 30°19′00″ в. д. (G) (O) (Я)\n",
    "\n",
    "print u'От Москвы до Ленинграда %.2f км' % haversine(SPB, MSK)"
   ]
  },
  {
   "cell_type": "markdown",
   "metadata": {},
   "source": [
    "![caption](files/pics/corel.png \"Рисунок 3 Формула расчёта коэффициента корреляции Пирсона\")"
   ]
  },
  {
   "cell_type": "code",
   "execution_count": 22,
   "metadata": {
    "collapsed": false
   },
   "outputs": [
    {
     "name": "stdout",
     "output_type": "stream",
     "text": [
      "[49 29 12 28 16  7 59 32 50 13 31 41 37  4 23 44 52  5 38 14 45 34 48 54  3\n",
      " 18 39 20 24 27 22 19  9 35 21 15  1 56 36 42 30  0  8 57 10 11 46 55 51 47\n",
      " 33 25 53 17  2 40 26  6 43 58]\n",
      "[53 40  1 32 39 35 46 34 13  4 21 37 18 29 31 47 17 57 49 15 26 56  8 16 54\n",
      " 23 27 19 28 20 36 38 51 45 22 24 59  7 25 55 43  0 12  9 50 10 44 58  5 52\n",
      " 14 33  3 30  2 42 48  6 41 11]\n",
      "CC from def cc: 0.006\n",
      "CC from numpy: 0.006\n"
     ]
    }
   ],
   "source": [
    "# ЛИСТИНГ 11 Коэффициент корреляции Пирсона \n",
    "\n",
    "import random\n",
    "import numpy as np\n",
    "\n",
    "def pirson_cc(x, y):\n",
    "    u'''\n",
    "    Это строка документирования!\n",
    "    Функция вычисляет для двух последовательностей \\\n",
    "    коэффициент корреляции Пирсона.\n",
    "    \n",
    "    Входящие параметры:\n",
    "    ===================\n",
    "    \n",
    "    **x [ndarray]** - одномерный массив длины N;\n",
    "    **y [ndarray]** - одномерный массив длины N;\n",
    "    \n",
    "    Результат выполнения функции:\n",
    "    =============================\n",
    "    **сс [float]** - коэффициент корреляции Пирсона.\n",
    "    '''\n",
    "    \n",
    "    xm = x.mean()\n",
    "    ym = y.mean()\n",
    "\n",
    "    a = 0\n",
    "    b1 = 0\n",
    "    b2 = 0\n",
    "    for xi, yi in zip(x, y):\n",
    "        a += (xi - xm)*(yi - ym)\n",
    "        b1 += (xi - xm)**2 \n",
    "        b2 += (yi - ym)**2\n",
    "    b = np.sqrt(b1*b2)\n",
    "    \n",
    "    cc = float(a)/b\n",
    "    return cc\n",
    "\n",
    "N = 60\n",
    "# методы списка + модуль random\n",
    "a = range(N)\n",
    "random.shuffle(a)\n",
    "a = np.array(a)\n",
    "\n",
    "# модуль numpy\n",
    "b = np.arange(N)\n",
    "np.random.shuffle(b)\n",
    "\n",
    "print a\n",
    "print b\n",
    "print 'CC from def cc: %.3f' % pirson_cc(a, b)\n",
    "print 'CC from numpy: %.3f' % np.corrcoef(a, b)[0][1]"
   ]
  },
  {
   "cell_type": "code",
   "execution_count": 1,
   "metadata": {
    "collapsed": false
   },
   "outputs": [
    {
     "name": "stdout",
     "output_type": "stream",
     "text": [
      "Место установки интерпретатора Python: C:\\Users\\pashabanov\\Anaconda2\n",
      "0 \n",
      "1 C:\\Users\\pashabanov\\Anaconda2\\python27.zip\n",
      "2 C:\\Users\\pashabanov\\Anaconda2\\DLLs\n",
      "3 C:\\Users\\pashabanov\\Anaconda2\\lib\n",
      "4 C:\\Users\\pashabanov\\Anaconda2\\lib\\plat-win\n",
      "5 C:\\Users\\pashabanov\\Anaconda2\\lib\\lib-tk\n",
      "6 C:\\Users\\pashabanov\\Anaconda2\n",
      "7 c:\\users\\pashabanov\\anaconda2\\lib\\site-packages\\sphinx-1.3.5-py2.7.egg\n",
      "8 c:\\users\\pashabanov\\anaconda2\\lib\\site-packages\\setuptools-20.1.1-py2.7.egg\n",
      "9 C:\\Users\\pashabanov\\Anaconda2\\lib\\site-packages\n",
      "10 C:\\Users\\pashabanov\\Anaconda2\\lib\\site-packages\\cryptography-1.0.2-py2.7-win-amd64.egg\n",
      "11 C:\\Users\\pashabanov\\Anaconda2\\lib\\site-packages\\win32\n",
      "12 C:\\Users\\pashabanov\\Anaconda2\\lib\\site-packages\\win32\\lib\n",
      "13 C:\\Users\\pashabanov\\Anaconda2\\lib\\site-packages\\Pythonwin\n",
      "14 C:\\Users\\pashabanov\\Anaconda2\\lib\\site-packages\\IPython\\extensions\n",
      "15 C:\\Users\\pashabanov\\.ipython\n"
     ]
    }
   ],
   "source": [
    "# ЛИСТИНГ 12 Import\n",
    "\n",
    "import os, sys\n",
    "import time\n",
    "\n",
    "print u'Место установки интерпретатора Python: {}'.format(sys.prefix)\n",
    "\n",
    "print u'А в этих папках Python ищет модули: {}'.format(sys.prefix)\n",
    "for v in sys.path:\n",
    "    j = sys.path.index(v)\n",
    "    print j, v"
   ]
  },
  {
   "cell_type": "code",
   "execution_count": 12,
   "metadata": {
    "collapsed": false
   },
   "outputs": [
    {
     "name": "stdout",
     "output_type": "stream",
     "text": [
      "np is a <type 'module'>\n",
      "[[ 0.35015817  0.13035735  0.41397556]\n",
      " [ 0.89803573  0.66833484  0.75356305]\n",
      " [ 0.09149152  0.67895228  0.25219487]]\n",
      "['In', 'Out', '_', '__', '___', '__builtin__', '__builtins__', '__doc__', '__name__', '__package__', '_dh', '_i', '_i1', '_i10', '_i11', '_i12', '_i2', '_i3', '_i4', '_i5', '_i6', '_i7', '_i8', '_i9', '_ih', '_ii', '_iii', '_oh', '_sh', 'exit', 'get_ipython', 'i', 'ilist', 'j', 'modlist', 'np', 'numpy', 'os', 'quit', 'random', 'randx', 'rn', 'shapexy', 'sys', 'time', 'v', 'z']\n"
     ]
    }
   ],
   "source": [
    "# ЛИСТИНГ 13 From Import as\n",
    "\n",
    "import sys\n",
    "\n",
    "import numpy as np   # псевдоним\n",
    "from numpy import random as rn   # импорт части модуля\n",
    "from numpy.random import random as randx   # импорт функции под псевдонимом\n",
    "from numpy.random import random # импорт функции\n",
    "\n",
    "shapexy = (7, 12)\n",
    "print 'np is a %s' % type(np)\n",
    "z = rn.random(shapexy)\n",
    "z = randx(shapexy)\n",
    "z = random(shapexy)\n",
    "print z[:3, :3]\n",
    "\n",
    "'''\n",
    "Функция dir() возвращает список имен объекта, а если объект не указан,\n",
    "то список имен в текущей локальной области видимости.\n",
    "'''\n",
    "ilist = dir()   \n",
    "ilist.sort()\n",
    "print ilist"
   ]
  },
  {
   "cell_type": "code",
   "execution_count": 22,
   "metadata": {
    "collapsed": false
   },
   "outputs": [
    {
     "name": "stdout",
     "output_type": "stream",
     "text": [
      "От Москвы до Ленинграда 622.71 км\n",
      "CC from def cc: -0.103\n",
      "\n",
      " Сравни: \n",
      "\n",
      "CC from numpy: -0.103\n"
     ]
    }
   ],
   "source": [
    "# ЛИСТИНГ 14 Пакеты main1\n",
    "\n",
    "# -*- coding: utf-8 -*-\n",
    "\"\"\"\n",
    "Created on Fri Mar 11 22:48:27 2016\n",
    "\n",
    "@author: pasha\n",
    "\"\"\"\n",
    "\n",
    "import math\n",
    "import random\n",
    "import numpy as np\n",
    "\n",
    "def haversine(origin, destination):\n",
    "    '''\n",
    "    Points are tuples of (latitude, longitude)\n",
    "    '''\n",
    "    lat1, lon1 = origin\n",
    "    lat2, lon2 = destination\n",
    "    radius = 6371. # km\n",
    "\n",
    "    dlat = math.radians(lat2-lat1)\n",
    "    dlon = math.radians(lon2-lon1)\n",
    "    a = math.sin(dlat/2.) * math.sin(dlat/2.) + math.cos(math.radians(lat1)) \\\n",
    "        * math.cos(math.radians(lat2)) * math.sin(dlon/2.) * math.sin(dlon/2.)\n",
    "    c = 2 * math.atan2(math.sqrt(a), math.sqrt(1.-a))\n",
    "    d = radius * c\n",
    "\n",
    "    return d\n",
    "\n",
    "def pirson_cc(x, y):\n",
    "    u'''\n",
    "    Это строка документирования!\n",
    "    Функция вычисляет для двух последовательностей \\\n",
    "    коэффициент корреляции Пирсона.\n",
    "    \n",
    "    Входящие параметры:\n",
    "    ===================\n",
    "    \n",
    "    **x [ndarray]** - одномерный массив длины N;\n",
    "    **y [ndarray]** - одномерный массив длины N;\n",
    "    \n",
    "    Результат выполнения функции:\n",
    "    =============================\n",
    "    **сс [float]** - коэффициент корреляции Пирсона.\n",
    "    '''\n",
    "    \n",
    "    xm = x.mean()\n",
    "    ym = y.mean()\n",
    "\n",
    "    a = 0\n",
    "    b1 = 0\n",
    "    b2 = 0\n",
    "    for xi, yi in zip(x, y):\n",
    "        a += (xi - xm)*(yi - ym)\n",
    "        b1 += (xi - xm)**2 \n",
    "        b2 += (yi - ym)**2\n",
    "    b = np.sqrt(b1*b2)\n",
    "    \n",
    "    cc = float(a)/b\n",
    "    return cc\n",
    "\n",
    "# **************************************\n",
    "\n",
    "N = 60\n",
    "# методы списка + модуль random\n",
    "a = range(N)\n",
    "random.shuffle(a)\n",
    "a = np.array(a)\n",
    "\n",
    "# модуль numpy\n",
    "b = np.arange(N)\n",
    "np.random.shuffle(b)\n",
    "\n",
    "TSK = (56.49, 84.95)   # 56°29′19″ с. ш. 84°57′08″ в. д.\n",
    "MSK = (55.76, 37.61)  # 55°45′21″ с. ш. 37°37′04″ в. д.\n",
    "SPB = (59.95, 30.61) # 59°57′00″ с. ш. 30°19′00″ в. д. (G) (O) (Я)\n",
    "\n",
    "print u'От Москвы до Ленинграда %.2f км' % haversine(SPB, MSK)\n",
    "print 'CC from def cc: %.3f' % pirson_cc(a, b)\n",
    "print u'\\n Сравни: \\n'\n",
    "print 'CC from numpy: %.3f' % np.corrcoef(a, b)[0][1]"
   ]
  },
  {
   "cell_type": "code",
   "execution_count": 27,
   "metadata": {
    "collapsed": false
   },
   "outputs": [
    {
     "name": "stdout",
     "output_type": "stream",
     "text": [
      "От Москвы до Ленинграда 622.71 км\n",
      "CC from def cc: -0.044\n",
      "Текущее время 2016-03-16-00-18-06\n"
     ]
    }
   ],
   "source": [
    "# ЛИСТИНГ 15 Пакеты main2\n",
    "\n",
    "# -*- coding: utf-8 -*-\n",
    "\"\"\"\n",
    "Created on Fri Mar 11 22:48:27 2016\n",
    "\n",
    "@author: pasha\n",
    "\"\"\"\n",
    "\n",
    "import os, sys\n",
    "import random\n",
    "import numpy as np\n",
    "\n",
    "from progs.data import libf\n",
    "from progs.data.meta.window import printer\n",
    "\n",
    "N = 60\n",
    "# методы списка + модуль random\n",
    "a = range(N)\n",
    "random.shuffle(a)\n",
    "a = np.array(a)\n",
    "\n",
    "# модуль numpy\n",
    "b = np.arange(N)\n",
    "np.random.shuffle(b)\n",
    "\n",
    "TSK = (56.49, 84.95)   # 56°29′19″ с. ш. 84°57′08″ в. д.\n",
    "MSK = (55.76, 37.61)  # 55°45′21″ с. ш. 37°37′04″ в. д.\n",
    "SPB = (59.95, 30.61) # 59°57′00″ с. ш. 30°19′00″ в. д. (G) (O) (Я)\n",
    "\n",
    "print u'От Москвы до Ленинграда %.2f км' % libf.haversine(SPB, MSK)\n",
    "print 'CC from def cc: %.3f' % libf.pirson_cc(a, b)\n",
    "print u'Текущее время %s' % printer()\n",
    "#print 'CC from numpy: %.3f' % np.corrcoef(a, b)[0][1]"
   ]
  }
 ],
 "metadata": {
  "kernelspec": {
   "display_name": "Python 2",
   "language": "python",
   "name": "python2"
  },
  "language_info": {
   "codemirror_mode": {
    "name": "ipython",
    "version": 2
   },
   "file_extension": ".py",
   "mimetype": "text/x-python",
   "name": "python",
   "nbconvert_exporter": "python",
   "pygments_lexer": "ipython2",
   "version": "2.7.11"
  }
 },
 "nbformat": 4,
 "nbformat_minor": 0
}
