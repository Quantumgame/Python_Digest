{
 "cells": [
  {
   "cell_type": "markdown",
   "metadata": {
    "collapsed": true
   },
   "source": [
    "# Домашнее задание IV\n",
    "\n",
    "**Составил:** Шабанова П.А. в рамках курса [Python дайджест](https://github.com/whitehorn/Python_Digest)\n",
    "\n",
    "**E-mail:** pa.shabanov@gmail.com\n",
    "\n",
    "**URL:** [Заметки по программированию в науках о Земле](http://progeoru.blogspot.ru/)\n",
    "\n",
    "### Подсказки\n",
    "\n",
    "Учебник Н.А. Прохорёнок **\"Python Самое необходимое\"**.\n",
    "\n",
    "+ Функция *enumerate()* - с. 50;\n",
    "\n",
    "+ Модуль random - с. 59-61;\n",
    "\n",
    "+ Списки - c. 115-135."
   ]
  },
  {
   "cell_type": "code",
   "execution_count": 1,
   "metadata": {
    "collapsed": false
   },
   "outputs": [],
   "source": [
    "# Получение списка z случайно расположенных целых чисел\n",
    "\n",
    "import random\n",
    "\n",
    "n = 10\n",
    "z = range(n)\n",
    "random.shuffle(z)"
   ]
  },
  {
   "cell_type": "code",
   "execution_count": 2,
   "metadata": {
    "collapsed": false
   },
   "outputs": [
    {
     "name": "stdout",
     "output_type": "stream",
     "text": [
      "[9, -10, -6, -8, 6, -8, -10, 8, -8, -5, -5, 3, 9, -8, -6, 6, -1, -6, 3, -5, -3, -7, 5, -4, 3, -9, 7, 5, 7, 1, 10, 4, 1, -7, 7, 6, 4, -7, 2, -4, -6, 3, 9, 4, 8, 2, 1, 6, -1, 8]\n"
     ]
    }
   ],
   "source": [
    "# Получение списка z случайных целых чисел длины n (могут быть повторы)\n",
    "\n",
    "import random\n",
    "\n",
    "n = 50\n",
    "a = -10\n",
    "b = 10\n",
    "z = [random.randint(a, b) for i in range(n)]   # генератор списка\n",
    "\n",
    "# Генератор списка аналогичен такому коду\n",
    "z = []\n",
    "for i in range(n):\n",
    "    z.append(random.randint(a, b))\n",
    "    \n",
    "print z\n",
    "\n",
    "''' P.S. область изменения функции randint(a, b) должна быть заметно меньше, чем длина n. \n",
    "Иначе велика вероятность получить список из уникальных значений.\n",
    "''';"
   ]
  },
  {
   "cell_type": "code",
   "execution_count": 3,
   "metadata": {
    "collapsed": false
   },
   "outputs": [
    {
     "name": "stdout",
     "output_type": "stream",
     "text": [
      "[0, 1, 2, 3, 4, 5, 6, 7, 8, 9, 10, 11, 12, 13, 14, 15, 16]\n"
     ]
    }
   ],
   "source": [
    "# Обмен значений списка (перестановка - swap)\n",
    "\n",
    "a = range(17)\n",
    "print a\n",
    "a[0], a[-1] = a[-1], a[0]   # первый способ\n",
    "\n",
    "# второй способ\n",
    "t = a[0]\n",
    "a[0] = a[-1]\n",
    "a[-1] = t"
   ]
  },
  {
   "cell_type": "markdown",
   "metadata": {},
   "source": [
    "### Задание\n",
    "\n",
    "Дан список длины N, состоящий из случайных целых чисел. Убрать из исходного списка все повторяющиеся элементы (обеспечить в списке хотя бы один повтор) и добавить эти повторяющиеся значения, также их индексы в исходном списке, в новый список в виде кортежа (список из кортежей, состоящих из двух значений)."
   ]
  },
  {
   "cell_type": "code",
   "execution_count": 6,
   "metadata": {
    "collapsed": false
   },
   "outputs": [
    {
     "name": "stdout",
     "output_type": "stream",
     "text": [
      "0 2\n",
      "1 -7\n",
      "2 -2\n",
      "3 9\n",
      "4 2\n",
      "5 4\n",
      "6 -3\n",
      "7 2\n",
      "8 -7\n",
      "9 -7\n",
      "10 -7\n",
      "11 -2\n",
      "12 -3\n",
      "13 8\n",
      "14 -3\n",
      "15 7\n",
      "16 1\n",
      "17 -6\n",
      "18 -1\n",
      "19 0\n",
      "[2, -7, -2, 9, 4, -3, 8, 7, 1, -6, -1, 0]\n",
      "[(-7, 8), (-7, 9), (-7, 10), (-3, 12), (-3, 14), (-2, 11), (2, 4), (2, 7)]\n"
     ]
    }
   ],
   "source": [
    "# Вариант 1\n",
    "\n",
    "import random\n",
    "\n",
    "a = -7\n",
    "b = 10\n",
    "n = 20\n",
    "z = [random.randint(a, b) for i in range(n)]   # генератор списка\n",
    "#z = []\n",
    "#for i in range(n):\n",
    "#    rand = random.randint(a, b)\n",
    "#    z.append(rand)\n",
    "\n",
    "#for i, val in enumerate(z):\n",
    "#    print '{} {}'.format(i, val)\n",
    "#    pass\n",
    "\n",
    "x = []\n",
    "t = []\n",
    "for i, val in enumerate(z):\n",
    "    if val in t:\n",
    "        tup = (val, i)\n",
    "        x.append(tup)\n",
    "    else:\n",
    "        t.append((val))\n",
    "        \n",
    "print t\n",
    "print sorted(x)"
   ]
  },
  {
   "cell_type": "code",
   "execution_count": 1,
   "metadata": {
    "collapsed": false
   },
   "outputs": [
    {
     "name": "stdout",
     "output_type": "stream",
     "text": [
      "0 9\n",
      "1 1\n",
      "2 -4\n",
      "3 -4\n",
      "4 -3\n",
      "5 7\n",
      "6 6\n",
      "7 -5\n",
      "8 3\n",
      "9 2\n",
      "10 2\n",
      "11 6\n",
      "12 -5\n",
      "13 10\n",
      "14 5\n",
      "15 7\n",
      "16 2\n",
      "17 0\n",
      "18 7\n",
      "19 10\n",
      "Result: 12 -5\n",
      "Result: 3 -4\n",
      "Result: 10 2\n",
      "Result: 16 2\n",
      "Result: 11 6\n",
      "Result: 15 7\n",
      "Result: 18 7\n",
      "Result: 19 10\n"
     ]
    }
   ],
   "source": [
    "# Вариант 2\n",
    "\n",
    "import random\n",
    "\n",
    "a = -7\n",
    "b = 10\n",
    "n = 20\n",
    "z = [random.randint(a, b) for i in range(n)]   # генератор списка\n",
    "\n",
    "for i, val in enumerate(z):\n",
    "    print '{} {}'.format(i, val)\n",
    "    pass\n",
    "\n",
    "ss = set(z)   # множество\n",
    "ss = list(ss)\n",
    "ss.sort()\n",
    "\n",
    "x = []\n",
    "for s in ss:\n",
    "    cs = z.count(s)\n",
    "#    print 's', s, 'cs', cs\n",
    "    if cs == 1: continue\n",
    "    else:\n",
    "        c = 0\n",
    "        for i, j in enumerate(z):\n",
    "            if j == s: \n",
    "                c += 1\n",
    "                if c > 1: x.append((i, j))\n",
    "            if c == cs: break\n",
    "for i,j in x:\n",
    "    print 'Result:', i,j"
   ]
  },
  {
   "cell_type": "markdown",
   "metadata": {},
   "source": [
    "### Тест\n",
    "\n",
    "Перейти к [Проверочному тесту T1](https://stepic.org/lesson/%D0%9F%D1%80%D0%BE%D0%B2%D0%B5%D1%80%D0%BE%D1%87%D0%BD%D1%8B%D0%B9-%D1%82%D0%B5%D1%81%D1%82-T1-24611/step/1?unit=undefined)"
   ]
  }
 ],
 "metadata": {
  "kernelspec": {
   "display_name": "Python 2",
   "language": "python",
   "name": "python2"
  },
  "language_info": {
   "codemirror_mode": {
    "name": "ipython",
    "version": 2
   },
   "file_extension": ".py",
   "mimetype": "text/x-python",
   "name": "python",
   "nbconvert_exporter": "python",
   "pygments_lexer": "ipython2",
   "version": "2.7.11"
  }
 },
 "nbformat": 4,
 "nbformat_minor": 0
}
